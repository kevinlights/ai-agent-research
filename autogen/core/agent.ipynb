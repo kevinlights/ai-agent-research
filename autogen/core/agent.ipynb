{
 "cells": [
  {
   "cell_type": "code",
   "execution_count": 1,
   "metadata": {},
   "outputs": [],
   "source": [
    "from autogen_core import (\n",
    "    AgentId,\n",
    "    MessageContext,\n",
    "    RoutedAgent,\n",
    "    SingleThreadedAgentRuntime,\n",
    "    message_handler,\n",
    ")\n",
    "\n",
    "from dataclasses import dataclass\n",
    "\n",
    "\n",
    "@dataclass\n",
    "class TextMessage:\n",
    "    content: str\n",
    "    source: str\n",
    "\n",
    "\n",
    "@dataclass\n",
    "class ImageMessage:\n",
    "    url: str\n",
    "    source: str\n",
    "\n",
    "\n",
    "class MyAgent(RoutedAgent):\n",
    "    @message_handler\n",
    "    async def on_text_message(self, message: TextMessage, ctx: MessageContext) -> None:\n",
    "        print(f\"Hello, {message.source}, you said {message.content}!\")\n",
    "\n",
    "    @message_handler\n",
    "    async def on_image_message(\n",
    "        self, message: ImageMessage, ctx: MessageContext\n",
    "    ) -> None:\n",
    "        print(f\"Hello, {message.source}, you sent me {message.url}!\")"
   ]
  },
  {
   "cell_type": "code",
   "execution_count": 2,
   "metadata": {},
   "outputs": [
    {
     "data": {
      "text/plain": [
       "AgentType(type='my_agent')"
      ]
     },
     "execution_count": 2,
     "metadata": {},
     "output_type": "execute_result"
    }
   ],
   "source": [
    "runtime = SingleThreadedAgentRuntime()\n",
    "await MyAgent.register(runtime, \"my_agent\", lambda: MyAgent(\"My Agent\"))"
   ]
  },
  {
   "cell_type": "code",
   "execution_count": 3,
   "metadata": {},
   "outputs": [
    {
     "name": "stdout",
     "output_type": "stream",
     "text": [
      "Hello, User, you said Hello, World!!\n",
      "Hello, User, you sent me https://example.com/image.jpg!\n"
     ]
    }
   ],
   "source": [
    "runtime.start()\n",
    "agent_id = AgentId(\"my_agent\", \"default\")\n",
    "await runtime.send_message(TextMessage(content=\"Hello, World!\", source=\"User\"), agent_id)\n",
    "await runtime.send_message(ImageMessage(url=\"https://example.com/image.jpg\", source=\"User\"), agent_id)\n",
    "await runtime.stop_when_idle()"
   ]
  },
  {
   "cell_type": "code",
   "execution_count": 4,
   "metadata": {},
   "outputs": [],
   "source": [
    "class RoutedBySenderAgent(RoutedAgent):\n",
    "    @message_handler(match=lambda msg, ctx: msg.source.startswith(\"user1\"))  # type: ignore\n",
    "    async def on_user1_message(self, message: TextMessage, ctx: MessageContext) -> None:\n",
    "        print(\n",
    "            f\"Hello from user 1 handler, {message.source}, you said {message.content}!\"\n",
    "        )\n",
    "\n",
    "    @message_handler(match=lambda msg, ctx: msg.source.startswith(\"user2\"))  # type: ignore\n",
    "    async def on_user2_message(self, message: TextMessage, ctx: MessageContext) -> None:\n",
    "        print(\n",
    "            f\"Hello from user 2 handler, {message.source}, you said {message.content}!\"\n",
    "        )\n",
    "\n",
    "    @message_handler(match=lambda msg, ctx: msg.source.startswith(\"user2\"))  # type: ignore\n",
    "    async def on_image_message(\n",
    "        self, message: ImageMessage, ctx: MessageContext\n",
    "    ) -> None:\n",
    "        print(f\"Hello, {message.source}, you sent me {message.url}!\")"
   ]
  },
  {
   "cell_type": "code",
   "execution_count": 5,
   "metadata": {},
   "outputs": [
    {
     "name": "stdout",
     "output_type": "stream",
     "text": [
      "Hello from user 1 handler, user1-test, you said Hello, World!!\n",
      "Hello from user 2 handler, user2-test, you said Hello, World!!\n",
      "Hello, user2-test, you sent me https://example.com/image.jpg!\n"
     ]
    }
   ],
   "source": [
    "runtime = SingleThreadedAgentRuntime()\n",
    "await RoutedBySenderAgent.register(\n",
    "    runtime, \"my_agent\", lambda: RoutedBySenderAgent(\"Routed by sender agent\")\n",
    ")\n",
    "runtime.start()\n",
    "agent_id = AgentId(\"my_agent\", \"default\")\n",
    "await runtime.send_message(\n",
    "    TextMessage(content=\"Hello, World!\", source=\"user1-test\"), agent_id\n",
    ")\n",
    "await runtime.send_message(\n",
    "    TextMessage(content=\"Hello, World!\", source=\"user2-test\"), agent_id\n",
    ")\n",
    "await runtime.send_message(\n",
    "    ImageMessage(url=\"https://example.com/image.jpg\", source=\"user1-test\"), agent_id\n",
    ")\n",
    "await runtime.send_message(\n",
    "    ImageMessage(url=\"https://example.com/image.jpg\", source=\"user2-test\"), agent_id\n",
    ")\n",
    "await runtime.stop_when_idle()"
   ]
  },
  {
   "cell_type": "code",
   "execution_count": 6,
   "metadata": {},
   "outputs": [],
   "source": [
    "from dataclasses import dataclass\n",
    "\n",
    "from autogen_core import (\n",
    "    MessageContext,\n",
    "    RoutedAgent,\n",
    "    SingleThreadedAgentRuntime,\n",
    "    message_handler,\n",
    ")\n",
    "\n",
    "\n",
    "@dataclass\n",
    "class Message:\n",
    "    content: str\n",
    "\n",
    "\n",
    "class InnerAgent(RoutedAgent):\n",
    "    @message_handler\n",
    "    async def on_my_message(self, message: Message, ctx: MessageContext) -> Message:\n",
    "        return Message(content=f\"Hello from inner, {message.content}\")\n",
    "\n",
    "\n",
    "class OuterAgent(RoutedAgent):\n",
    "    def __init__(self, description: str, inner_agent_type: str):\n",
    "        super().__init__(description)\n",
    "        self.inner_agent_id = AgentId(inner_agent_type, self.id.key)\n",
    "\n",
    "    @message_handler\n",
    "    async def on_my_message(self, message: Message, ctx: MessageContext) -> None:\n",
    "        print(f\"Received message: {message.content}\")\n",
    "        # Send a direct message to the inner agent and receives a response.\n",
    "        response = await self.send_message(\n",
    "            Message(f\"Hello from outer, {message.content}\"), self.inner_agent_id\n",
    "        )\n",
    "        print(f\"Received inner response: {response.content}\")"
   ]
  },
  {
   "cell_type": "code",
   "execution_count": 7,
   "metadata": {},
   "outputs": [
    {
     "name": "stdout",
     "output_type": "stream",
     "text": [
      "Received message: Hello, World!\n",
      "Received inner response: Hello from inner, Hello from outer, Hello, World!\n"
     ]
    }
   ],
   "source": [
    "runtime = SingleThreadedAgentRuntime()\n",
    "await InnerAgent.register(runtime, \"inner_agent\", lambda: InnerAgent(\"InnerAgent\"))\n",
    "await OuterAgent.register(\n",
    "    runtime, \"outer_agent\", lambda: OuterAgent(\"OuterAgent\", \"inner_agent\")\n",
    ")\n",
    "runtime.start()\n",
    "outer_agent_id = AgentId(\"outer_agent\", \"default\")\n",
    "await runtime.send_message(Message(content=\"Hello, World!\"), outer_agent_id)\n",
    "await runtime.stop_when_idle()"
   ]
  },
  {
   "cell_type": "code",
   "execution_count": 8,
   "metadata": {},
   "outputs": [],
   "source": [
    "from autogen_core import RoutedAgent, message_handler, type_subscription\n",
    "\n",
    "\n",
    "@type_subscription(topic_type=\"default\")\n",
    "class ReceivingAgent(RoutedAgent):\n",
    "    @message_handler\n",
    "    async def on_my_message(self, message: Message, ctx: MessageContext) -> None:\n",
    "        print(f\"Received a message: {message.content}\")"
   ]
  },
  {
   "cell_type": "code",
   "execution_count": 9,
   "metadata": {},
   "outputs": [],
   "source": [
    "from autogen_core import TopicId\n",
    "\n",
    "\n",
    "class BroadcastingAgent(RoutedAgent):\n",
    "    @message_handler\n",
    "    async def on_my_message(self, message: Message, ctx: MessageContext) -> None:\n",
    "        await self.publish_message(\n",
    "            Message(\"Publishing a message from broadcasting agent!\"),\n",
    "            topic_id=TopicId(type=\"default\", source=self.id.key),\n",
    "        )"
   ]
  },
  {
   "cell_type": "code",
   "execution_count": null,
   "metadata": {},
   "outputs": [],
   "source": [
    "from autogen_core import TypeSubscription\n",
    "\n",
    "runtime = SingleThreadedAgentRuntime()\n",
    "\n",
    "# Option 1: with type_subscription decorator\n",
    "# The type_subscription class decorator automatically adds a TypeSubscription to\n",
    "# the runtime when the agent is registered.\n",
    "await ReceivingAgent.register(\n",
    "    runtime, \"receiving_agent\", lambda: ReceivingAgent(\"Receiving Agent\")\n",
    ")\n",
    "\n",
    "# Option 2: with TypeSubscription\n",
    "await BroadcastingAgent.register(\n",
    "    runtime, \"broadcasting_agent\", lambda: BroadcastingAgent(\"Broadcasting Agent\")\n",
    ")\n",
    "await runtime.add_subscription(\n",
    "    TypeSubscription(topic_type=\"default\", agent_type=\"broadcasting_agent\")\n",
    ")\n",
    "\n",
    "# Start the runtime and publish a message.\n",
    "runtime.start()\n",
    "await runtime.publish_message(\n",
    "    Message(\"Hello, World! From the runtime!\"),\n",
    "    topic_id=TopicId(type=\"default\", source=\"default\"),\n",
    ")\n",
    "await runtime.stop_when_idle()"
   ]
  }
 ],
 "metadata": {
  "kernelspec": {
   "display_name": "open_manus",
   "language": "python",
   "name": "python3"
  },
  "language_info": {
   "codemirror_mode": {
    "name": "ipython",
    "version": 3
   },
   "file_extension": ".py",
   "mimetype": "text/x-python",
   "name": "python",
   "nbconvert_exporter": "python",
   "pygments_lexer": "ipython3",
   "version": "3.12.9"
  }
 },
 "nbformat": 4,
 "nbformat_minor": 2
}
