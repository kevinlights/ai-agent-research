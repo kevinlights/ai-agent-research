{
 "cells": [
  {
   "cell_type": "code",
   "execution_count": 1,
   "metadata": {},
   "outputs": [],
   "source": [
    "import logging\n",
    "\n",
    "from autogen_core import TRACE_LOGGER_NAME\n",
    "\n",
    "logging.basicConfig(level=logging.WARNING)\n",
    "logger = logging.getLogger(TRACE_LOGGER_NAME)\n",
    "logger.addHandler(logging.StreamHandler())\n",
    "logger.setLevel(logging.DEBUG)"
   ]
  },
  {
   "cell_type": "code",
   "execution_count": 2,
   "metadata": {},
   "outputs": [],
   "source": [
    "import logging\n",
    "\n",
    "from autogen_core import EVENT_LOGGER_NAME\n",
    "\n",
    "logging.basicConfig(level=logging.WARNING)\n",
    "logger = logging.getLogger(EVENT_LOGGER_NAME)\n",
    "logger.addHandler(logging.StreamHandler())\n",
    "logger.setLevel(logging.INFO)"
   ]
  },
  {
   "cell_type": "code",
   "execution_count": 3,
   "metadata": {},
   "outputs": [],
   "source": [
    "import logging\n",
    "from dataclasses import dataclass\n",
    "\n",
    "@dataclass\n",
    "class MyEvent:\n",
    "    timestamp: str\n",
    "    message: str\n",
    "\n",
    "class MyHandler(logging.Handler):\n",
    "    def __init__(self) -> None:\n",
    "        super().__init__()\n",
    "\n",
    "    def emit(self, record: logging.LogRecord) -> None:\n",
    "        try:\n",
    "            # Use the StructuredMessage if the message is an instance of it\n",
    "            if isinstance(record.msg, MyEvent):\n",
    "                print(f\"Timestamp: {record.msg.timestamp}, Message: {record.msg.message}\")\n",
    "        except Exception:\n",
    "            self.handleError(record)"
   ]
  },
  {
   "cell_type": "code",
   "execution_count": 4,
   "metadata": {},
   "outputs": [],
   "source": [
    "logger = logging.getLogger(EVENT_LOGGER_NAME)\n",
    "logger.setLevel(logging.INFO)\n",
    "my_handler = MyHandler()\n",
    "logger.handlers = [my_handler]"
   ]
  },
  {
   "cell_type": "code",
   "execution_count": 5,
   "metadata": {},
   "outputs": [],
   "source": [
    "import logging\n",
    "\n",
    "from autogen_core import TRACE_LOGGER_NAME\n",
    "logger = logging.getLogger(f\"{TRACE_LOGGER_NAME}.my_module\")"
   ]
  },
  {
   "cell_type": "code",
   "execution_count": 6,
   "metadata": {},
   "outputs": [
    {
     "name": "stderr",
     "output_type": "stream",
     "text": [
      "INFO:autogen_core.events.my_module:MyEvent(timestamp='timestamp', message='message')\n"
     ]
    },
    {
     "name": "stdout",
     "output_type": "stream",
     "text": [
      "Timestamp: timestamp, Message: message\n"
     ]
    }
   ],
   "source": [
    "import logging\n",
    "from dataclasses import dataclass\n",
    "from autogen_core import EVENT_LOGGER_NAME\n",
    "\n",
    "@dataclass\n",
    "class MyEvent:\n",
    "    timestamp: str\n",
    "    message: str\n",
    "\n",
    "logger = logging.getLogger(EVENT_LOGGER_NAME + \".my_module\")\n",
    "logger.info(MyEvent(\"timestamp\", \"message\"))"
   ]
  },
  {
   "cell_type": "code",
   "execution_count": null,
   "metadata": {},
   "outputs": [],
   "source": []
  }
 ],
 "metadata": {
  "kernelspec": {
   "display_name": "open_manus",
   "language": "python",
   "name": "python3"
  },
  "language_info": {
   "codemirror_mode": {
    "name": "ipython",
    "version": 3
   },
   "file_extension": ".py",
   "mimetype": "text/x-python",
   "name": "python",
   "nbconvert_exporter": "python",
   "pygments_lexer": "ipython3",
   "version": "3.12.9"
  }
 },
 "nbformat": 4,
 "nbformat_minor": 2
}
