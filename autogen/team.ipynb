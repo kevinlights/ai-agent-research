{
 "cells": [
  {
   "cell_type": "code",
   "execution_count": 1,
   "metadata": {},
   "outputs": [
    {
     "name": "stderr",
     "output_type": "stream",
     "text": [
      "/Users/kevinlights/app/miniforge3/envs/open_manus/lib/python3.12/site-packages/autogen_ext/models/openai/_openai_client.py:608: UserWarning: Could not find <think>..</think> field in model response content. No thought was extracted.\n",
      "  thought, content = parse_r1_content(content)\n"
     ]
    },
    {
     "name": "stdout",
     "output_type": "stream",
     "text": [
      "TaskResult(messages=[TextMessage(source='user', models_usage=None, metadata={}, content='Write a short poem about the fall season.', type='TextMessage'), TextMessage(source='primary', models_usage=RequestUsage(prompt_tokens=29, completion_tokens=127), metadata={}, content=\"Leaves whisper to each other, rustling in air,\\nAs seasons turn and summer's heat does disappear.\\nCrisp breezes dance with scarlet, orange flair,\\nWhile pumpkins rest, under cool autumn stare.\\n\\nApples blush beneath morning frosty light,\\nAnd trees shed their vibrant cloaks of green.\\nA sweater worn; a cozy cup of malt\\nBrings warmth back to the night and day.\\n\\nSilence falls, amidst nature's soft decay,\\nEach leaf that drifts in twilight's silver play,\\nIs but a gentle reminder of time's slow sway,\\nWelcome fall, with all your hues and ways.\", type='TextMessage'), TextMessage(source='critic', models_usage=RequestUsage(prompt_tokens=167, completion_tokens=43), metadata={}, content='Your poem beautifully captures the essence of autumn. The imagery is vivid and the emotions are well expressed. To enhance it further, consider adding some metaphorical elements or deeper themes related to change and transition. APPROVE', type='TextMessage')], stop_reason=\"Text 'APPROVE' mentioned\")\n"
     ]
    }
   ],
   "source": [
    "import asyncio\n",
    "\n",
    "from autogen_agentchat.agents import AssistantAgent\n",
    "from autogen_agentchat.base import TaskResult\n",
    "from autogen_agentchat.conditions import ExternalTermination, TextMentionTermination\n",
    "from autogen_agentchat.teams import RoundRobinGroupChat\n",
    "from autogen_agentchat.ui import Console\n",
    "from autogen_core import CancellationToken\n",
    "from autogen_ext.models.openai import OpenAIChatCompletionClient\n",
    "\n",
    "# Create an OpenAI model client.\n",
    "# model_client = OpenAIChatCompletionClient(\n",
    "#     model=\"gpt-4o-2024-08-06\",\n",
    "#     # api_key=\"sk-...\", # Optional if you have an OPENAI_API_KEY env variable set.\n",
    "# )\n",
    "\n",
    "from autogen_core.models import ModelFamily\n",
    "model_client = OpenAIChatCompletionClient(\n",
    "    model=\"qwen2.5:7b\",\n",
    "    base_url=\"http://localhost:11434/v1\",\n",
    "    api_key=\"placeholder\",\n",
    "    model_info={\n",
    "        \"vision\": False,\n",
    "        \"function_calling\": True,\n",
    "        \"json_output\": False,\n",
    "        \"family\": ModelFamily.R1,\n",
    "    },\n",
    ")\n",
    "\n",
    "# Create the primary agent.\n",
    "primary_agent = AssistantAgent(\n",
    "    \"primary\",\n",
    "    model_client=model_client,\n",
    "    system_message=\"You are a helpful AI assistant.\",\n",
    ")\n",
    "\n",
    "# Create the critic agent.\n",
    "critic_agent = AssistantAgent(\n",
    "    \"critic\",\n",
    "    model_client=model_client,\n",
    "    system_message=\"Provide constructive feedback. Respond with 'APPROVE' to when your feedbacks are addressed.\",\n",
    ")\n",
    "\n",
    "# Define a termination condition that stops the task if the critic approves.\n",
    "text_termination = TextMentionTermination(\"APPROVE\")\n",
    "\n",
    "# Create a team with the primary and critic agents.\n",
    "team = RoundRobinGroupChat([primary_agent, critic_agent], termination_condition=text_termination)\n",
    "\n",
    "# Use `asyncio.run(...)` when running in a script.\n",
    "result = await team.run(task=\"Write a short poem about the fall season.\")\n",
    "print(result)"
   ]
  },
  {
   "cell_type": "code",
   "execution_count": 3,
   "metadata": {},
   "outputs": [
    {
     "name": "stdout",
     "output_type": "stream",
     "text": [
      "TaskResult(messages=[TextMessage(source='user', models_usage=None, metadata={}, content='写一首关于春天的短诗', type='TextMessage'), TextMessage(source='primary', models_usage=RequestUsage(prompt_tokens=27, completion_tokens=31), metadata={}, content='春风轻拂绿意浓，\\n桃红柳絮舞微风。\\n莺歌燕语花间闹，\\n一曲生机满园中。', type='TextMessage'), TextMessage(source='critic', models_usage=RequestUsage(prompt_tokens=70, completion_tokens=59), metadata={}, content='这首诗描绘了春天生机勃勃的景象，语言流畅，意境优美。建议在最后一句可以稍微调整一下表达，比如改为“一曲春歌唱不休”，这样既呼应开头的春风，又增加了一点动态感。其他地方都很好！APPROVE', type='TextMessage')], stop_reason=\"Text 'APPROVE' mentioned\")\n"
     ]
    }
   ],
   "source": [
    "await team.reset()  # Reset the team for a new task.\n",
    "result = await team.run(task=\"写一首关于春天的短诗\")\n",
    "print(result)"
   ]
  },
  {
   "cell_type": "code",
   "execution_count": 4,
   "metadata": {},
   "outputs": [
    {
     "name": "stdout",
     "output_type": "stream",
     "text": [
      "source='user' models_usage=None metadata={} content='Write a short poem about the fall season.' type='TextMessage'\n",
      "source='primary' models_usage=RequestUsage(prompt_tokens=29, completion_tokens=126) metadata={} content=\"Leaves of amber and gold, they swirl and dance,\\nIn the crisp air of autumn's gentle stance.\\nWhispering secrets to chilly breezes high,\\nAs summer fades and winter draws nigh.\\n\\nBursts of orange and red in twilight scenes,\\nWhere once green was king, now color dreams.\\nNature puts on her finest, a glorious show,\\nWith every leaf, fall paints a brand-new glow.\\n\\nPumpkins carved with glee, bats roost in trees,\\nCorn mazes winding under sapphire skies.\\nHues of nature's palette come to life,\\nIn the season that we fondly prize.\" type='TextMessage'\n",
      "source='critic' models_usage=RequestUsage(prompt_tokens=166, completion_tokens=214) metadata={} content=\"Your poem captures the essence and beauty of autumn vividly. To enhance it further, consider adding more specific imagery or sounds that can make the reader feel immersed in the fall season. For example, you could mention leaves crunching underfoot or the scent of woodsmoke in the air. Here’s a slight revision:\\n\\nLeaves of amber and gold, they swirl and dance,\\nIn the crisp air of autumn's gentle stance.\\nWhispering secrets to chilly breezes high,\\nAs summer fades and winter draws nigh.\\n\\nBursts of orange and red under twilight scenes,\\nWhere once green was king, now color dreams.\\nNature puts on her finest, a glorious show,\\nWith every leaf, fall paints a brand-new glow.\\n\\nPumpkins carved with glee, bats roost in trees,\\nCorn mazes winding 'neath sapphire skies.\\nHues of nature's palette come to life,\\nIn the season when we fondly prize\\nThe crunch beneath our feet and woodsmoke spice,\\nA scent that heralds frosty nights.\\n\\nAPPROVE\" type='TextMessage'\n",
      "Stop Reason: Text 'APPROVE' mentioned\n"
     ]
    }
   ],
   "source": [
    "# When running inside a script, use a async main function and call it from `asyncio.run(...)`.\n",
    "await team.reset()  # Reset the team for a new task.\n",
    "async for message in team.run_stream(task=\"Write a short poem about the fall season.\"):  # type: ignore\n",
    "    if isinstance(message, TaskResult):\n",
    "        print(\"Stop Reason:\", message.stop_reason)\n",
    "    else:\n",
    "        print(message)"
   ]
  },
  {
   "cell_type": "code",
   "execution_count": 5,
   "metadata": {},
   "outputs": [
    {
     "name": "stdout",
     "output_type": "stream",
     "text": [
      "---------- user ----------\n",
      "Write a short poem about the fall season.\n",
      "---------- primary ----------\n",
      "Leaves whisper in the cool breeze,\n",
      "Crimson, gold, and amber please.\n",
      "Sunsets paint the fading light,\n",
      "As autumn breathes its crisp delight.\n",
      "\n",
      "Pumpkins glow beneath the moon's gaze,\n",
      "And jack-o'-lanterns welcome days\n",
      "Of stories told around the fire,\n",
      "While leaves crunch under wandering feet desire.\n",
      "---------- critic ----------\n",
      "Your poem captures the essence of fall beautifully with vivid imagery and a cozy atmosphere. Here are some minor suggestions to enhance it further:\n",
      "- Consider adding a line about the changing temperature or a gusty wind to highlight the coolness of autumn.\n",
      "- You might add an alliteration in \"sunsets\" to \"sullen skies\" for a more cohesive rhythm.\n",
      "\n",
      "Here's how you could integrate these ideas:\n",
      "\n",
      "Leaves whisper in the cool, crisp breeze,\n",
      "Crimson, gold, and amber please.\n",
      "Sullen skies with fading light,\n",
      "As autumn breathes its chill delight.\n",
      "\n",
      "Pumpkins glow beneath the moon’s gaze,\n",
      "And jack-o'-lanterns welcome days\n",
      "Of stories told around the fire,\n",
      "While leaves crunch under wandering feet desire.\n",
      "\n",
      "APPROVE\n"
     ]
    },
    {
     "data": {
      "text/plain": [
       "TaskResult(messages=[TextMessage(source='user', models_usage=None, metadata={}, content='Write a short poem about the fall season.', type='TextMessage'), TextMessage(source='primary', models_usage=RequestUsage(prompt_tokens=29, completion_tokens=69), metadata={}, content=\"Leaves whisper in the cool breeze,\\nCrimson, gold, and amber please.\\nSunsets paint the fading light,\\nAs autumn breathes its crisp delight.\\n\\nPumpkins glow beneath the moon's gaze,\\nAnd jack-o'-lanterns welcome days\\nOf stories told around the fire,\\nWhile leaves crunch under wandering feet desire.\", type='TextMessage'), TextMessage(source='critic', models_usage=RequestUsage(prompt_tokens=109, completion_tokens=155), metadata={}, content='Your poem captures the essence of fall beautifully with vivid imagery and a cozy atmosphere. Here are some minor suggestions to enhance it further:\\n- Consider adding a line about the changing temperature or a gusty wind to highlight the coolness of autumn.\\n- You might add an alliteration in \"sunsets\" to \"sullen skies\" for a more cohesive rhythm.\\n\\nHere\\'s how you could integrate these ideas:\\n\\nLeaves whisper in the cool, crisp breeze,\\nCrimson, gold, and amber please.\\nSullen skies with fading light,\\nAs autumn breathes its chill delight.\\n\\nPumpkins glow beneath the moon’s gaze,\\nAnd jack-o\\'-lanterns welcome days\\nOf stories told around the fire,\\nWhile leaves crunch under wandering feet desire.\\n\\nAPPROVE', type='TextMessage')], stop_reason=\"Text 'APPROVE' mentioned\")"
      ]
     },
     "execution_count": 5,
     "metadata": {},
     "output_type": "execute_result"
    }
   ],
   "source": [
    "await team.reset()  # Reset the team for a new task.\n",
    "await Console(team.run_stream(task=\"Write a short poem about the fall season.\"))  # Stream the messages to the console."
   ]
  },
  {
   "cell_type": "code",
   "execution_count": 6,
   "metadata": {},
   "outputs": [
    {
     "name": "stdout",
     "output_type": "stream",
     "text": [
      "---------- user ----------\n",
      "Write a short poem about the fall season.\n",
      "---------- primary ----------\n",
      "Autumn whispers in the breeze,\n",
      "Leaves of amber and gold release.\n",
      "Crisp air dances through the trees,\n",
      " painting the ground in hues that please.\n",
      "\n",
      "Pumpkins carved, Halloween's cheer,\n",
      "Apples plucked from orchards near.\n",
      "Warmsthebones, a cozy fire,\n",
      "As twilight falls with gentlepire.\n"
     ]
    },
    {
     "data": {
      "text/plain": [
       "TaskResult(messages=[TextMessage(source='user', models_usage=None, metadata={}, content='Write a short poem about the fall season.', type='TextMessage'), TextMessage(source='primary', models_usage=RequestUsage(prompt_tokens=116, completion_tokens=67), metadata={}, content=\"Autumn whispers in the breeze,\\nLeaves of amber and gold release.\\nCrisp air dances through the trees,\\n painting the ground in hues that please.\\n\\nPumpkins carved, Halloween's cheer,\\nApples plucked from orchards near.\\nWarmsthebones, a cozy fire,\\nAs twilight falls with gentlepire.\", type='TextMessage')], stop_reason='External termination requested')"
      ]
     },
     "execution_count": 6,
     "metadata": {},
     "output_type": "execute_result"
    }
   ],
   "source": [
    "# Create a new team with an external termination condition.\n",
    "external_termination = ExternalTermination()\n",
    "team = RoundRobinGroupChat(\n",
    "    [primary_agent, critic_agent],\n",
    "    termination_condition=external_termination | text_termination,  # Use the bitwise OR operator to combine conditions.\n",
    ")\n",
    "\n",
    "# Run the team in a background task.\n",
    "run = asyncio.create_task(Console(team.run_stream(task=\"Write a short poem about the fall season.\")))\n",
    "\n",
    "# Wait for some time.\n",
    "await asyncio.sleep(0.1)\n",
    "\n",
    "# Stop the team.\n",
    "# Calling set() on ExternalTermination will stop the team when the current agent’s turn is over. Thus, the team may not stop immediately. This allows the current agent to finish its turn and broadcast the final message to the team before the team stops, keeping the team’s state consistent.\n",
    "external_termination.set()\n",
    "\n",
    "# Wait for the team to finish.\n",
    "await run"
   ]
  },
  {
   "cell_type": "code",
   "execution_count": 7,
   "metadata": {},
   "outputs": [
    {
     "name": "stdout",
     "output_type": "stream",
     "text": [
      "---------- critic ----------\n",
      "Your poem is filled with warmth and autumnal imagery. Here are some minor tweaks to refine it further:\n",
      "\n",
      "Autumn whispers in the breeze,\n",
      "Leaves of amber and gold release.\n",
      "Crisp air dances through the trees,\n",
      "painting the ground in hues that please.\n",
      "\n",
      "Pumpkins carved, Halloween's cheer,\n",
      "Apples plucked from orchards near.\n",
      "Warm the bones, a cozy fire,\n",
      "As twilight falls with gentle fire.\n",
      "\n",
      "APPROVE\n"
     ]
    },
    {
     "data": {
      "text/plain": [
       "TaskResult(messages=[TextMessage(source='critic', models_usage=RequestUsage(prompt_tokens=348, completion_tokens=91), metadata={}, content=\"Your poem is filled with warmth and autumnal imagery. Here are some minor tweaks to refine it further:\\n\\nAutumn whispers in the breeze,\\nLeaves of amber and gold release.\\nCrisp air dances through the trees,\\npainting the ground in hues that please.\\n\\nPumpkins carved, Halloween's cheer,\\nApples plucked from orchards near.\\nWarm the bones, a cozy fire,\\nAs twilight falls with gentle fire.\\n\\nAPPROVE\", type='TextMessage')], stop_reason=\"Text 'APPROVE' mentioned\")"
      ]
     },
     "execution_count": 7,
     "metadata": {},
     "output_type": "execute_result"
    }
   ],
   "source": [
    "await Console(team.run_stream())  # Resume the team to continue the last task."
   ]
  },
  {
   "cell_type": "code",
   "execution_count": 8,
   "metadata": {},
   "outputs": [
    {
     "name": "stdout",
     "output_type": "stream",
     "text": [
      "---------- user ----------\n",
      "将这首诗用中文唐诗风格写一遍。\n",
      "---------- primary ----------\n",
      "当然可以，以下是按照唐代诗歌风格改写的版本：\n",
      "\n",
      "秋风轻语意萧疏，\n",
      "金黄琥珀叶纷飘。\n",
      "寒气轻舞林间径，\n",
      "染得大地彩妆乔。\n",
      "\n",
      "南瓜雕刻庆万圣，\n",
      "苹果丰收近田园。\n",
      "炉火温暖入骨髓，\n",
      "晚霞渐落映柔辉。\n",
      "---------- critic ----------\n",
      "您的翻译非常优美，很好地保留了原诗的意境和唐代诗歌风格。以下是稍作调整以确保更加顺畅和符合传统唐诗特点的版本：\n",
      "\n",
      "秋风轻语意萧疏，\n",
      "金黄琥珀叶纷飘。\n",
      "寒气舞动林间径，\n",
      "染得大地彩妆娇。\n",
      "\n",
      "南瓜雕刻庆 Halloween，\n",
      "苹果丰收近果园旁。\n",
      "炉火温暖入骨髓，\n",
      "晚霞渐落映柔辉。\n",
      "\n",
      "请注意，“Halloween”和“果园旁”在唐诗中可能不太自然，如果能用中文词汇替换可能会更好。以下是调整后的版本：\n",
      "\n",
      "秋风轻语意萧疏，\n",
      "金黄琥珀叶纷飘。\n",
      "寒气舞动林间径，\n",
      "染得大地彩妆娇。\n",
      "\n",
      "南瓜雕刻庆佳节，\n",
      "苹果丰收近园旁。\n",
      "炉火温暖入骨髓，\n",
      "晚霞渐落映柔辉。\n",
      "\n",
      "APPROVE\n"
     ]
    },
    {
     "data": {
      "text/plain": [
       "TaskResult(messages=[TextMessage(source='user', models_usage=None, metadata={}, content='将这首诗用中文唐诗风格写一遍。', type='TextMessage'), TextMessage(source='primary', models_usage=RequestUsage(prompt_tokens=294, completion_tokens=70), metadata={}, content='当然可以，以下是按照唐代诗歌风格改写的版本：\\n\\n秋风轻语意萧疏，\\n金黄琥珀叶纷飘。\\n寒气轻舞林间径，\\n染得大地彩妆乔。\\n\\n南瓜雕刻庆万圣，\\n苹果丰收近田园。\\n炉火温暖入骨髓，\\n晚霞渐落映柔辉。', type='TextMessage'), TextMessage(source='critic', models_usage=RequestUsage(prompt_tokens=528, completion_tokens=185), metadata={}, content='您的翻译非常优美，很好地保留了原诗的意境和唐代诗歌风格。以下是稍作调整以确保更加顺畅和符合传统唐诗特点的版本：\\n\\n秋风轻语意萧疏，\\n金黄琥珀叶纷飘。\\n寒气舞动林间径，\\n染得大地彩妆娇。\\n\\n南瓜雕刻庆 Halloween，\\n苹果丰收近果园旁。\\n炉火温暖入骨髓，\\n晚霞渐落映柔辉。\\n\\n请注意，“Halloween”和“果园旁”在唐诗中可能不太自然，如果能用中文词汇替换可能会更好。以下是调整后的版本：\\n\\n秋风轻语意萧疏，\\n金黄琥珀叶纷飘。\\n寒气舞动林间径，\\n染得大地彩妆娇。\\n\\n南瓜雕刻庆佳节，\\n苹果丰收近园旁。\\n炉火温暖入骨髓，\\n晚霞渐落映柔辉。\\n\\nAPPROVE', type='TextMessage')], stop_reason=\"Text 'APPROVE' mentioned\")"
      ]
     },
     "execution_count": 8,
     "metadata": {},
     "output_type": "execute_result"
    }
   ],
   "source": [
    "# The new task is to translate the same poem to Chinese Tang-style poetry.\n",
    "await Console(team.run_stream(task=\"将这首诗用中文唐诗风格写一遍。\"))"
   ]
  },
  {
   "cell_type": "code",
   "execution_count": 9,
   "metadata": {},
   "outputs": [
    {
     "name": "stdout",
     "output_type": "stream",
     "text": [
      "Task was cancelled.\n"
     ]
    }
   ],
   "source": [
    "# Create a cancellation token.\n",
    "cancellation_token = CancellationToken()\n",
    "\n",
    "# Use another coroutine to run the team.\n",
    "run = asyncio.create_task(\n",
    "    team.run(\n",
    "        task=\"Translate the poem to Spanish.\",\n",
    "        cancellation_token=cancellation_token,\n",
    "    )\n",
    ")\n",
    "\n",
    "# Cancel the run.\n",
    "# Different from stopping a team, aborting a team will immediately stop the team and raise a CancelledError exception.\n",
    "cancellation_token.cancel()\n",
    "\n",
    "try:\n",
    "    result = await run  # This will raise a CancelledError.\n",
    "except asyncio.CancelledError:\n",
    "    print(\"Task was cancelled.\")"
   ]
  },
  {
   "cell_type": "code",
   "execution_count": null,
   "metadata": {},
   "outputs": [
    {
     "name": "stdout",
     "output_type": "stream",
     "text": [
      "TextMessage source='user' models_usage=None metadata={} content='Increment the number 5 to 10.' type='TextMessage'\n",
      "ToolCallRequestEvent source='looped_assistant' models_usage=RequestUsage(prompt_tokens=170, completion_tokens=125) metadata={} content=[FunctionCall(id='call_t1ugekza', arguments='{\"number\":5}', name='increment_number'), FunctionCall(id='call_hs7e8wo3', arguments='{\"number\":6}', name='increment_number'), FunctionCall(id='call_kvcznbkc', arguments='{\"number\":8}', name='increment_number'), FunctionCall(id='call_liwqg17o', arguments='{\"number\":9}', name='increment_number')] type='ToolCallRequestEvent'\n",
      "ToolCallExecutionEvent source='looped_assistant' models_usage=None metadata={} content=[FunctionExecutionResult(content='6', name='increment_number', call_id='call_t1ugekza', is_error=False), FunctionExecutionResult(content='7', name='increment_number', call_id='call_hs7e8wo3', is_error=False), FunctionExecutionResult(content='9', name='increment_number', call_id='call_kvcznbkc', is_error=False), FunctionExecutionResult(content='10', name='increment_number', call_id='call_liwqg17o', is_error=False)] type='ToolCallExecutionEvent'\n",
      "ToolCallSummaryMessage source='looped_assistant' models_usage=None metadata={} content='6\\n7\\n9\\n10' type='ToolCallSummaryMessage'\n",
      "TextMessage source='looped_assistant' models_usage=RequestUsage(prompt_tokens=260, completion_tokens=11) metadata={} content='The number has been incremented to 10.' type='TextMessage'\n",
      "TaskResult TaskResult(messages=[TextMessage(source='user', models_usage=None, metadata={}, content='Increment the number 5 to 10.', type='TextMessage'), ToolCallRequestEvent(source='looped_assistant', models_usage=RequestUsage(prompt_tokens=170, completion_tokens=125), metadata={}, content=[FunctionCall(id='call_t1ugekza', arguments='{\"number\":5}', name='increment_number'), FunctionCall(id='call_hs7e8wo3', arguments='{\"number\":6}', name='increment_number'), FunctionCall(id='call_kvcznbkc', arguments='{\"number\":8}', name='increment_number'), FunctionCall(id='call_liwqg17o', arguments='{\"number\":9}', name='increment_number')], type='ToolCallRequestEvent'), ToolCallExecutionEvent(source='looped_assistant', models_usage=None, metadata={}, content=[FunctionExecutionResult(content='6', name='increment_number', call_id='call_t1ugekza', is_error=False), FunctionExecutionResult(content='7', name='increment_number', call_id='call_hs7e8wo3', is_error=False), FunctionExecutionResult(content='9', name='increment_number', call_id='call_kvcznbkc', is_error=False), FunctionExecutionResult(content='10', name='increment_number', call_id='call_liwqg17o', is_error=False)], type='ToolCallExecutionEvent'), ToolCallSummaryMessage(source='looped_assistant', models_usage=None, metadata={}, content='6\\n7\\n9\\n10', type='ToolCallSummaryMessage'), TextMessage(source='looped_assistant', models_usage=RequestUsage(prompt_tokens=260, completion_tokens=11), metadata={}, content='The number has been incremented to 10.', type='TextMessage')], stop_reason=\"Text message received from 'looped_assistant'\")\n"
     ]
    }
   ],
   "source": [
    "from autogen_agentchat.agents import AssistantAgent\n",
    "from autogen_agentchat.conditions import TextMessageTermination\n",
    "from autogen_agentchat.teams import RoundRobinGroupChat\n",
    "from autogen_agentchat.ui import Console\n",
    "from autogen_ext.models.openai import OpenAIChatCompletionClient\n",
    "\n",
    "# model_client = OpenAIChatCompletionClient(\n",
    "#     model=\"gpt-4o\",\n",
    "#     # api_key=\"sk-...\", # Optional if you have an OPENAI_API_KEY env variable set.\n",
    "#     # Disable parallel tool calls for this example.\n",
    "#     parallel_tool_calls=False,  # type: ignore\n",
    "# )\n",
    "\n",
    "from autogen_core.models import ModelFamily\n",
    "model_client = OpenAIChatCompletionClient(\n",
    "    model=\"qwen2.5:7b\",\n",
    "    # model=\"llama3.2:3b\",\n",
    "    base_url=\"http://localhost:11434/v1\",\n",
    "    api_key=\"placeholder\",\n",
    "    model_info={\n",
    "        \"vision\": False,\n",
    "        \"function_calling\": True,\n",
    "        \"json_output\": False,\n",
    "        \"family\": ModelFamily.ANY,\n",
    "    },\n",
    "    parallel_tool_calls=False,  # type: ignore\n",
    ")\n",
    "\n",
    "\n",
    "# Create a tool for incrementing a number.\n",
    "def increment_number(number: int) -> int:\n",
    "    \"\"\"Increment a number by 1.\"\"\"\n",
    "    return number + 1\n",
    "\n",
    "\n",
    "# Create a tool agent that uses the increment_number function.\n",
    "looped_assistant = AssistantAgent(\n",
    "    \"looped_assistant\",\n",
    "    model_client=model_client,\n",
    "    tools=[increment_number],  # Register the tool.\n",
    "    system_message=\"You are a helpful AI assistant, use the tool to increment the number until it reach to the target value.\",\n",
    ")\n",
    "\n",
    "# Termination condition that stops the task if the agent responds with a text message.\n",
    "termination_condition = TextMessageTermination(\"looped_assistant\")\n",
    "\n",
    "# Create a team with the looped assistant agent and the termination condition.\n",
    "team = RoundRobinGroupChat(\n",
    "    [looped_assistant],\n",
    "    termination_condition=termination_condition,\n",
    ")\n",
    "\n",
    "# Run the team with a task and print the messages to the console.\n",
    "async for message in team.run_stream(task=\"Increment the number 5 to 10.\"):  # type: ignore\n",
    "    print(type(message).__name__, message)"
   ]
  },
  {
   "cell_type": "code",
   "execution_count": null,
   "metadata": {},
   "outputs": [],
   "source": []
  }
 ],
 "metadata": {
  "kernelspec": {
   "display_name": "open_manus",
   "language": "python",
   "name": "python3"
  },
  "language_info": {
   "codemirror_mode": {
    "name": "ipython",
    "version": 3
   },
   "file_extension": ".py",
   "mimetype": "text/x-python",
   "name": "python",
   "nbconvert_exporter": "python",
   "pygments_lexer": "ipython3",
   "version": "3.12.9"
  }
 },
 "nbformat": 4,
 "nbformat_minor": 2
}
