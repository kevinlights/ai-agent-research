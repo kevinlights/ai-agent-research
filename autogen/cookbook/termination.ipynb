{
 "cells": [
  {
   "cell_type": "code",
   "execution_count": 1,
   "metadata": {},
   "outputs": [],
   "source": [
    "from dataclasses import dataclass\n",
    "from typing import Any\n",
    "\n",
    "from autogen_core import (\n",
    "    DefaultInterventionHandler,\n",
    "    DefaultTopicId,\n",
    "    MessageContext,\n",
    "    RoutedAgent,\n",
    "    SingleThreadedAgentRuntime,\n",
    "    default_subscription,\n",
    "    message_handler,\n",
    ")"
   ]
  },
  {
   "cell_type": "code",
   "execution_count": 2,
   "metadata": {},
   "outputs": [],
   "source": [
    "@dataclass\n",
    "class Message:\n",
    "    content: Any\n",
    "\n",
    "\n",
    "@dataclass\n",
    "class Termination:\n",
    "    reason: str"
   ]
  },
  {
   "cell_type": "code",
   "execution_count": 3,
   "metadata": {},
   "outputs": [],
   "source": [
    "@default_subscription\n",
    "class AnAgent(RoutedAgent):\n",
    "    def __init__(self) -> None:\n",
    "        super().__init__(\"MyAgent\")\n",
    "        self.received = 0\n",
    "\n",
    "    @message_handler\n",
    "    async def on_new_message(self, message: Message, ctx: MessageContext) -> None:\n",
    "        self.received += 1\n",
    "        if self.received > 3:\n",
    "            await self.publish_message(Termination(reason=\"Reached maximum number of messages\"), DefaultTopicId())"
   ]
  },
  {
   "cell_type": "code",
   "execution_count": 4,
   "metadata": {},
   "outputs": [],
   "source": [
    "class TerminationHandler(DefaultInterventionHandler):\n",
    "    def __init__(self) -> None:\n",
    "        self._termination_value: Termination | None = None\n",
    "\n",
    "    async def on_publish(self, message: Any, *, message_context: MessageContext) -> Any:\n",
    "        if isinstance(message, Termination):\n",
    "            self._termination_value = message\n",
    "        return message\n",
    "\n",
    "    @property\n",
    "    def termination_value(self) -> Termination | None:\n",
    "        return self._termination_value\n",
    "\n",
    "    @property\n",
    "    def has_terminated(self) -> bool:\n",
    "        return self._termination_value is not None"
   ]
  },
  {
   "cell_type": "code",
   "execution_count": 5,
   "metadata": {},
   "outputs": [
    {
     "name": "stdout",
     "output_type": "stream",
     "text": [
      "Termination(reason='Reached maximum number of messages')\n"
     ]
    }
   ],
   "source": [
    "termination_handler = TerminationHandler()\n",
    "runtime = SingleThreadedAgentRuntime(intervention_handlers=[termination_handler])\n",
    "\n",
    "await AnAgent.register(runtime, \"my_agent\", AnAgent)\n",
    "\n",
    "runtime.start()\n",
    "\n",
    "# Publish more than 3 messages to trigger termination.\n",
    "await runtime.publish_message(Message(\"hello\"), DefaultTopicId())\n",
    "await runtime.publish_message(Message(\"hello\"), DefaultTopicId())\n",
    "await runtime.publish_message(Message(\"hello\"), DefaultTopicId())\n",
    "await runtime.publish_message(Message(\"hello\"), DefaultTopicId())\n",
    "\n",
    "# Wait for termination.\n",
    "await runtime.stop_when(lambda: termination_handler.has_terminated)\n",
    "\n",
    "print(termination_handler.termination_value)"
   ]
  },
  {
   "cell_type": "code",
   "execution_count": null,
   "metadata": {},
   "outputs": [],
   "source": []
  }
 ],
 "metadata": {
  "kernelspec": {
   "display_name": "open_manus",
   "language": "python",
   "name": "python3"
  },
  "language_info": {
   "codemirror_mode": {
    "name": "ipython",
    "version": 3
   },
   "file_extension": ".py",
   "mimetype": "text/x-python",
   "name": "python",
   "nbconvert_exporter": "python",
   "pygments_lexer": "ipython3",
   "version": "3.12.9"
  }
 },
 "nbformat": 4,
 "nbformat_minor": 2
}
