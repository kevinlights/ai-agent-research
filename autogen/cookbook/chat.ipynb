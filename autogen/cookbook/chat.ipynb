{
 "cells": [
  {
   "cell_type": "code",
   "execution_count": 4,
   "metadata": {},
   "outputs": [
    {
     "name": "stdout",
     "output_type": "stream",
     "text": [
      "嘿，我昨天遇到了一个很奇怪的物体。它是 seperti 一把起水花瓶，外面都是金色的，所以我以为是一把金色的花瓶。但是当我打开它时，里面里的水果都变成了绿色和白色的。我以为这是一个新鲜的水果，但实际上这只是一个小型的水果罐子。\n"
     ]
    }
   ],
   "source": [
    "from models import litellm_llama32_1b, chat\n",
    "\n",
    "res = await chat(\"你好，请讲个笑话\", litellm_llama32_1b())\n",
    "print(res.content)"
   ]
  },
  {
   "cell_type": "code",
   "execution_count": null,
   "metadata": {},
   "outputs": [],
   "source": []
  }
 ],
 "metadata": {
  "kernelspec": {
   "display_name": "open_manus",
   "language": "python",
   "name": "python3"
  },
  "language_info": {
   "codemirror_mode": {
    "name": "ipython",
    "version": 3
   },
   "file_extension": ".py",
   "mimetype": "text/x-python",
   "name": "python",
   "nbconvert_exporter": "python",
   "pygments_lexer": "ipython3",
   "version": "3.12.9"
  }
 },
 "nbformat": 4,
 "nbformat_minor": 2
}
