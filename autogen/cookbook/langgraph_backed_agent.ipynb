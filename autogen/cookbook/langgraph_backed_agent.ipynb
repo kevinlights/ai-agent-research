{
 "cells": [
  {
   "cell_type": "code",
   "execution_count": 1,
   "metadata": {},
   "outputs": [
    {
     "name": "stdout",
     "output_type": "stream",
     "text": [
      "Collecting langgraph\n",
      "  Downloading langgraph-0.3.18-py3-none-any.whl.metadata (7.5 kB)\n",
      "Requirement already satisfied: langchain-openai in /Users/kevinlights/app/miniforge3/envs/open_manus/lib/python3.12/site-packages (0.3.1)\n",
      "Requirement already satisfied: azure-identity in /Users/kevinlights/app/miniforge3/envs/open_manus/lib/python3.12/site-packages (1.21.0)\n",
      "Requirement already satisfied: langchain-core<0.4,>=0.1 in /Users/kevinlights/app/miniforge3/envs/open_manus/lib/python3.12/site-packages (from langgraph) (0.3.44)\n",
      "Collecting langgraph-checkpoint<3.0.0,>=2.0.10 (from langgraph)\n",
      "  Downloading langgraph_checkpoint-2.0.21-py3-none-any.whl.metadata (4.6 kB)\n",
      "Collecting langgraph-prebuilt<0.2,>=0.1.1 (from langgraph)\n",
      "  Downloading langgraph_prebuilt-0.1.3-py3-none-any.whl.metadata (5.0 kB)\n",
      "Collecting langgraph-sdk<0.2.0,>=0.1.42 (from langgraph)\n",
      "  Downloading langgraph_sdk-0.1.58-py3-none-any.whl.metadata (1.8 kB)\n",
      "Requirement already satisfied: openai<2.0.0,>=1.58.1 in /Users/kevinlights/app/miniforge3/envs/open_manus/lib/python3.12/site-packages (from langchain-openai) (1.66.3)\n",
      "Requirement already satisfied: tiktoken<1,>=0.7 in /Users/kevinlights/app/miniforge3/envs/open_manus/lib/python3.12/site-packages (from langchain-openai) (0.9.0)\n",
      "Requirement already satisfied: azure-core>=1.31.0 in /Users/kevinlights/app/miniforge3/envs/open_manus/lib/python3.12/site-packages (from azure-identity) (1.32.0)\n",
      "Requirement already satisfied: cryptography>=2.5 in /Users/kevinlights/app/miniforge3/envs/open_manus/lib/python3.12/site-packages (from azure-identity) (44.0.2)\n",
      "Requirement already satisfied: msal>=1.30.0 in /Users/kevinlights/app/miniforge3/envs/open_manus/lib/python3.12/site-packages (from azure-identity) (1.32.0)\n",
      "Requirement already satisfied: msal-extensions>=1.2.0 in /Users/kevinlights/app/miniforge3/envs/open_manus/lib/python3.12/site-packages (from azure-identity) (1.3.1)\n",
      "Requirement already satisfied: typing-extensions>=4.0.0 in /Users/kevinlights/app/miniforge3/envs/open_manus/lib/python3.12/site-packages (from azure-identity) (4.12.2)\n",
      "Requirement already satisfied: requests>=2.21.0 in /Users/kevinlights/app/miniforge3/envs/open_manus/lib/python3.12/site-packages (from azure-core>=1.31.0->azure-identity) (2.32.3)\n",
      "Requirement already satisfied: six>=1.11.0 in /Users/kevinlights/app/miniforge3/envs/open_manus/lib/python3.12/site-packages (from azure-core>=1.31.0->azure-identity) (1.17.0)\n",
      "Requirement already satisfied: cffi>=1.12 in /Users/kevinlights/app/miniforge3/envs/open_manus/lib/python3.12/site-packages (from cryptography>=2.5->azure-identity) (1.17.1)\n",
      "Requirement already satisfied: langsmith<0.4,>=0.1.125 in /Users/kevinlights/app/miniforge3/envs/open_manus/lib/python3.12/site-packages (from langchain-core<0.4,>=0.1->langgraph) (0.3.13)\n",
      "Requirement already satisfied: tenacity!=8.4.0,<10.0.0,>=8.1.0 in /Users/kevinlights/app/miniforge3/envs/open_manus/lib/python3.12/site-packages (from langchain-core<0.4,>=0.1->langgraph) (9.0.0)\n",
      "Requirement already satisfied: jsonpatch<2.0,>=1.33 in /Users/kevinlights/app/miniforge3/envs/open_manus/lib/python3.12/site-packages (from langchain-core<0.4,>=0.1->langgraph) (1.33)\n",
      "Requirement already satisfied: PyYAML>=5.3 in /Users/kevinlights/app/miniforge3/envs/open_manus/lib/python3.12/site-packages (from langchain-core<0.4,>=0.1->langgraph) (6.0.2)\n",
      "Requirement already satisfied: packaging<25,>=23.2 in /Users/kevinlights/app/miniforge3/envs/open_manus/lib/python3.12/site-packages (from langchain-core<0.4,>=0.1->langgraph) (24.2)\n",
      "Requirement already satisfied: pydantic<3.0.0,>=2.7.4 in /Users/kevinlights/app/miniforge3/envs/open_manus/lib/python3.12/site-packages (from langchain-core<0.4,>=0.1->langgraph) (2.10.6)\n",
      "Collecting msgpack<2.0.0,>=1.1.0 (from langgraph-checkpoint<3.0.0,>=2.0.10->langgraph)\n",
      "  Downloading msgpack-1.1.0-cp312-cp312-macosx_11_0_arm64.whl.metadata (8.4 kB)\n",
      "Requirement already satisfied: httpx>=0.25.2 in /Users/kevinlights/app/miniforge3/envs/open_manus/lib/python3.12/site-packages (from langgraph-sdk<0.2.0,>=0.1.42->langgraph) (0.28.1)\n",
      "Requirement already satisfied: orjson>=3.10.1 in /Users/kevinlights/app/miniforge3/envs/open_manus/lib/python3.12/site-packages (from langgraph-sdk<0.2.0,>=0.1.42->langgraph) (3.10.15)\n",
      "Requirement already satisfied: PyJWT<3,>=1.0.0 in /Users/kevinlights/app/miniforge3/envs/open_manus/lib/python3.12/site-packages (from PyJWT[crypto]<3,>=1.0.0->msal>=1.30.0->azure-identity) (2.8.0)\n",
      "Requirement already satisfied: anyio<5,>=3.5.0 in /Users/kevinlights/app/miniforge3/envs/open_manus/lib/python3.12/site-packages (from openai<2.0.0,>=1.58.1->langchain-openai) (4.8.0)\n",
      "Requirement already satisfied: distro<2,>=1.7.0 in /Users/kevinlights/app/miniforge3/envs/open_manus/lib/python3.12/site-packages (from openai<2.0.0,>=1.58.1->langchain-openai) (1.9.0)\n",
      "Requirement already satisfied: jiter<1,>=0.4.0 in /Users/kevinlights/app/miniforge3/envs/open_manus/lib/python3.12/site-packages (from openai<2.0.0,>=1.58.1->langchain-openai) (0.9.0)\n",
      "Requirement already satisfied: sniffio in /Users/kevinlights/app/miniforge3/envs/open_manus/lib/python3.12/site-packages (from openai<2.0.0,>=1.58.1->langchain-openai) (1.3.1)\n",
      "Requirement already satisfied: tqdm>4 in /Users/kevinlights/app/miniforge3/envs/open_manus/lib/python3.12/site-packages (from openai<2.0.0,>=1.58.1->langchain-openai) (4.67.1)\n",
      "Requirement already satisfied: regex>=2022.1.18 in /Users/kevinlights/app/miniforge3/envs/open_manus/lib/python3.12/site-packages (from tiktoken<1,>=0.7->langchain-openai) (2024.11.6)\n",
      "Requirement already satisfied: idna>=2.8 in /Users/kevinlights/app/miniforge3/envs/open_manus/lib/python3.12/site-packages (from anyio<5,>=3.5.0->openai<2.0.0,>=1.58.1->langchain-openai) (3.10)\n",
      "Requirement already satisfied: pycparser in /Users/kevinlights/app/miniforge3/envs/open_manus/lib/python3.12/site-packages (from cffi>=1.12->cryptography>=2.5->azure-identity) (2.22)\n",
      "Requirement already satisfied: certifi in /Users/kevinlights/app/miniforge3/envs/open_manus/lib/python3.12/site-packages (from httpx>=0.25.2->langgraph-sdk<0.2.0,>=0.1.42->langgraph) (2025.1.31)\n",
      "Requirement already satisfied: httpcore==1.* in /Users/kevinlights/app/miniforge3/envs/open_manus/lib/python3.12/site-packages (from httpx>=0.25.2->langgraph-sdk<0.2.0,>=0.1.42->langgraph) (1.0.7)\n",
      "Requirement already satisfied: h11<0.15,>=0.13 in /Users/kevinlights/app/miniforge3/envs/open_manus/lib/python3.12/site-packages (from httpcore==1.*->httpx>=0.25.2->langgraph-sdk<0.2.0,>=0.1.42->langgraph) (0.14.0)\n",
      "Requirement already satisfied: jsonpointer>=1.9 in /Users/kevinlights/app/miniforge3/envs/open_manus/lib/python3.12/site-packages (from jsonpatch<2.0,>=1.33->langchain-core<0.4,>=0.1->langgraph) (3.0.0)\n",
      "Requirement already satisfied: requests-toolbelt<2.0.0,>=1.0.0 in /Users/kevinlights/app/miniforge3/envs/open_manus/lib/python3.12/site-packages (from langsmith<0.4,>=0.1.125->langchain-core<0.4,>=0.1->langgraph) (1.0.0)\n",
      "Requirement already satisfied: zstandard<0.24.0,>=0.23.0 in /Users/kevinlights/app/miniforge3/envs/open_manus/lib/python3.12/site-packages (from langsmith<0.4,>=0.1.125->langchain-core<0.4,>=0.1->langgraph) (0.23.0)\n",
      "Requirement already satisfied: annotated-types>=0.6.0 in /Users/kevinlights/app/miniforge3/envs/open_manus/lib/python3.12/site-packages (from pydantic<3.0.0,>=2.7.4->langchain-core<0.4,>=0.1->langgraph) (0.7.0)\n",
      "Requirement already satisfied: pydantic-core==2.27.2 in /Users/kevinlights/app/miniforge3/envs/open_manus/lib/python3.12/site-packages (from pydantic<3.0.0,>=2.7.4->langchain-core<0.4,>=0.1->langgraph) (2.27.2)\n",
      "Requirement already satisfied: charset-normalizer<4,>=2 in /Users/kevinlights/app/miniforge3/envs/open_manus/lib/python3.12/site-packages (from requests>=2.21.0->azure-core>=1.31.0->azure-identity) (3.4.1)\n",
      "Requirement already satisfied: urllib3<3,>=1.21.1 in /Users/kevinlights/app/miniforge3/envs/open_manus/lib/python3.12/site-packages (from requests>=2.21.0->azure-core>=1.31.0->azure-identity) (2.3.0)\n",
      "Downloading langgraph-0.3.18-py3-none-any.whl (136 kB)\n",
      "Downloading langgraph_checkpoint-2.0.21-py3-none-any.whl (41 kB)\n",
      "Downloading langgraph_prebuilt-0.1.3-py3-none-any.whl (24 kB)\n",
      "Downloading langgraph_sdk-0.1.58-py3-none-any.whl (46 kB)\n",
      "Downloading msgpack-1.1.0-cp312-cp312-macosx_11_0_arm64.whl (82 kB)\n",
      "Installing collected packages: msgpack, langgraph-sdk, langgraph-checkpoint, langgraph-prebuilt, langgraph\n",
      "Successfully installed langgraph-0.3.18 langgraph-checkpoint-2.0.21 langgraph-prebuilt-0.1.3 langgraph-sdk-0.1.58 msgpack-1.1.0\n"
     ]
    }
   ],
   "source": [
    "!pip install langgraph langchain-openai azure-identity"
   ]
  },
  {
   "cell_type": "code",
   "execution_count": null,
   "metadata": {},
   "outputs": [],
   "source": [
    "import sys\n",
    "sys.path.append(\"../../libs\")"
   ]
  },
  {
   "cell_type": "code",
   "execution_count": 2,
   "metadata": {},
   "outputs": [],
   "source": [
    "from dataclasses import dataclass\n",
    "from typing import Any, Callable, List, Literal\n",
    "\n",
    "from autogen_core import AgentId, MessageContext, RoutedAgent, SingleThreadedAgentRuntime, message_handler\n",
    "from azure.identity import DefaultAzureCredential, get_bearer_token_provider\n",
    "from langchain_core.messages import HumanMessage, SystemMessage\n",
    "from langchain_core.tools import tool  # pyright: ignore\n",
    "from langchain_openai import AzureChatOpenAI, ChatOpenAI\n",
    "from langgraph.graph import END, MessagesState, StateGraph\n",
    "from langgraph.prebuilt import ToolNode"
   ]
  },
  {
   "cell_type": "code",
   "execution_count": 3,
   "metadata": {},
   "outputs": [],
   "source": [
    "@dataclass\n",
    "class Message:\n",
    "    content: str"
   ]
  },
  {
   "cell_type": "code",
   "execution_count": 4,
   "metadata": {},
   "outputs": [],
   "source": [
    "@tool  # pyright: ignore\n",
    "def get_weather(location: str) -> str:\n",
    "    \"\"\"Call to surf the web.\"\"\"\n",
    "    # This is a placeholder, but don't tell the LLM that...\n",
    "    if \"sf\" in location.lower() or \"san francisco\" in location.lower():\n",
    "        return \"It's 60 degrees and foggy.\"\n",
    "    return \"It's 90 degrees and sunny.\""
   ]
  },
  {
   "cell_type": "code",
   "execution_count": 5,
   "metadata": {},
   "outputs": [],
   "source": [
    "class LangGraphToolUseAgent(RoutedAgent):\n",
    "    def __init__(self, description: str, model: ChatOpenAI, tools: List[Callable[..., Any]]) -> None:  # pyright: ignore\n",
    "        super().__init__(description)\n",
    "        self._model = model.bind_tools(tools)  # pyright: ignore\n",
    "\n",
    "        # Define the function that determines whether to continue or not\n",
    "        def should_continue(state: MessagesState) -> Literal[\"tools\", END]:  # type: ignore\n",
    "            messages = state[\"messages\"]\n",
    "            last_message = messages[-1]\n",
    "            # If the LLM makes a tool call, then we route to the \"tools\" node\n",
    "            if last_message.tool_calls:  # type: ignore\n",
    "                return \"tools\"\n",
    "            # Otherwise, we stop (reply to the user)\n",
    "            return END\n",
    "\n",
    "        # Define the function that calls the model\n",
    "        async def call_model(state: MessagesState):  # type: ignore\n",
    "            messages = state[\"messages\"]\n",
    "            response = await self._model.ainvoke(messages)\n",
    "            # We return a list, because this will get added to the existing list\n",
    "            return {\"messages\": [response]}\n",
    "\n",
    "        tool_node = ToolNode(tools)  # pyright: ignore\n",
    "\n",
    "        # Define a new graph\n",
    "        self._workflow = StateGraph(MessagesState)\n",
    "\n",
    "        # Define the two nodes we will cycle between\n",
    "        self._workflow.add_node(\"agent\", call_model)  # pyright: ignore\n",
    "        self._workflow.add_node(\"tools\", tool_node)  # pyright: ignore\n",
    "\n",
    "        # Set the entrypoint as `agent`\n",
    "        # This means that this node is the first one called\n",
    "        self._workflow.set_entry_point(\"agent\")\n",
    "\n",
    "        # We now add a conditional edge\n",
    "        self._workflow.add_conditional_edges(\n",
    "            # First, we define the start node. We use `agent`.\n",
    "            # This means these are the edges taken after the `agent` node is called.\n",
    "            \"agent\",\n",
    "            # Next, we pass in the function that will determine which node is called next.\n",
    "            should_continue,  # type: ignore\n",
    "        )\n",
    "\n",
    "        # We now add a normal edge from `tools` to `agent`.\n",
    "        # This means that after `tools` is called, `agent` node is called next.\n",
    "        self._workflow.add_edge(\"tools\", \"agent\")\n",
    "\n",
    "        # Finally, we compile it!\n",
    "        # This compiles it into a LangChain Runnable,\n",
    "        # meaning you can use it as you would any other runnable.\n",
    "        # Note that we're (optionally) passing the memory when compiling the graph\n",
    "        self._app = self._workflow.compile()\n",
    "\n",
    "    @message_handler\n",
    "    async def handle_user_message(self, message: Message, ctx: MessageContext) -> Message:\n",
    "        # Use the Runnable\n",
    "        final_state = await self._app.ainvoke(\n",
    "            {\n",
    "                \"messages\": [\n",
    "                    SystemMessage(\n",
    "                        content=\"You are a helpful AI assistant. You can use tools to help answer questions.\"\n",
    "                    ),\n",
    "                    HumanMessage(content=message.content),\n",
    "                ]\n",
    "            },\n",
    "            config={\"configurable\": {\"thread_id\": 42}},\n",
    "        )\n",
    "        response = Message(content=final_state[\"messages\"][-1].content)\n",
    "        return response"
   ]
  },
  {
   "cell_type": "code",
   "execution_count": null,
   "metadata": {},
   "outputs": [],
   "source": [
    "\n",
    "runtime = SingleThreadedAgentRuntime()\n",
    "await LangGraphToolUseAgent.register(\n",
    "    runtime,\n",
    "    \"langgraph_tool_use_agent\",\n",
    "    lambda: LangGraphToolUseAgent(\n",
    "        \"Tool use agent\",\n",
    "        ChatOpenAI(\n",
    "            model=\"gpt-4o\",\n",
    "            # api_key=os.getenv(\"OPENAI_API_KEY\"),\n",
    "        ),\n",
    "        # AzureChatOpenAI(\n",
    "        #     azure_deployment=os.getenv(\"AZURE_OPENAI_DEPLOYMENT\"),\n",
    "        #     azure_endpoint=os.getenv(\"AZURE_OPENAI_ENDPOINT\"),\n",
    "        #     api_version=os.getenv(\"AZURE_OPENAI_API_VERSION\"),\n",
    "        #     # Using Azure Active Directory authentication.\n",
    "        #     azure_ad_token_provider=get_bearer_token_provider(DefaultAzureCredential()),\n",
    "        #     # Using API key.\n",
    "        #     # api_key=os.getenv(\"AZURE_OPENAI_API_KEY\"),\n",
    "        # ),\n",
    "        [get_weather],\n",
    "    ),\n",
    ")\n",
    "agent = AgentId(\"langgraph_tool_use_agent\", key=\"default\")"
   ]
  },
  {
   "cell_type": "code",
   "execution_count": null,
   "metadata": {},
   "outputs": [],
   "source": [
    "runtime.start()"
   ]
  },
  {
   "cell_type": "code",
   "execution_count": null,
   "metadata": {},
   "outputs": [],
   "source": [
    "response = await runtime.send_message(Message(\"What's the weather in SF?\"), agent)\n",
    "print(response.content)"
   ]
  },
  {
   "cell_type": "code",
   "execution_count": null,
   "metadata": {},
   "outputs": [],
   "source": [
    "await runtime.stop()"
   ]
  }
 ],
 "metadata": {
  "kernelspec": {
   "display_name": "open_manus",
   "language": "python",
   "name": "python3"
  },
  "language_info": {
   "codemirror_mode": {
    "name": "ipython",
    "version": 3
   },
   "file_extension": ".py",
   "mimetype": "text/x-python",
   "name": "python",
   "nbconvert_exporter": "python",
   "pygments_lexer": "ipython3",
   "version": "3.12.9"
  }
 },
 "nbformat": 4,
 "nbformat_minor": 2
}
