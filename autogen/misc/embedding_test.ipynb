{
 "cells": [
  {
   "cell_type": "code",
   "execution_count": 1,
   "metadata": {},
   "outputs": [],
   "source": [
    "import sys\n",
    "sys.path.append(\"../../libs\")\n",
    "from models import *"
   ]
  },
  {
   "cell_type": "code",
   "execution_count": 2,
   "metadata": {},
   "outputs": [
    {
     "name": "stdout",
     "output_type": "stream",
     "text": [
      "Requirement already satisfied: ollama in /Users/kevinlights/app/miniforge3/envs/open_manus/lib/python3.12/site-packages (0.4.7)\n",
      "Requirement already satisfied: chromadb in /Users/kevinlights/app/miniforge3/envs/open_manus/lib/python3.12/site-packages (0.6.3)\n",
      "Requirement already satisfied: httpx<0.29,>=0.27 in /Users/kevinlights/app/miniforge3/envs/open_manus/lib/python3.12/site-packages (from ollama) (0.28.1)\n",
      "Requirement already satisfied: pydantic<3.0.0,>=2.9.0 in /Users/kevinlights/app/miniforge3/envs/open_manus/lib/python3.12/site-packages (from ollama) (2.10.6)\n",
      "Requirement already satisfied: build>=1.0.3 in /Users/kevinlights/app/miniforge3/envs/open_manus/lib/python3.12/site-packages (from chromadb) (1.2.2.post1)\n",
      "Requirement already satisfied: chroma-hnswlib==0.7.6 in /Users/kevinlights/app/miniforge3/envs/open_manus/lib/python3.12/site-packages (from chromadb) (0.7.6)\n",
      "Requirement already satisfied: fastapi>=0.95.2 in /Users/kevinlights/app/miniforge3/envs/open_manus/lib/python3.12/site-packages (from chromadb) (0.115.11)\n",
      "Requirement already satisfied: uvicorn>=0.18.3 in /Users/kevinlights/app/miniforge3/envs/open_manus/lib/python3.12/site-packages (from uvicorn[standard]>=0.18.3->chromadb) (0.29.0)\n",
      "Requirement already satisfied: numpy>=1.22.5 in /Users/kevinlights/app/miniforge3/envs/open_manus/lib/python3.12/site-packages (from chromadb) (2.2.3)\n",
      "Requirement already satisfied: posthog>=2.4.0 in /Users/kevinlights/app/miniforge3/envs/open_manus/lib/python3.12/site-packages (from chromadb) (3.19.1)\n",
      "Requirement already satisfied: typing_extensions>=4.5.0 in /Users/kevinlights/app/miniforge3/envs/open_manus/lib/python3.12/site-packages (from chromadb) (4.12.2)\n",
      "Requirement already satisfied: onnxruntime>=1.14.1 in /Users/kevinlights/app/miniforge3/envs/open_manus/lib/python3.12/site-packages (from chromadb) (1.21.0)\n",
      "Requirement already satisfied: opentelemetry-api>=1.2.0 in /Users/kevinlights/app/miniforge3/envs/open_manus/lib/python3.12/site-packages (from chromadb) (1.31.0)\n",
      "Requirement already satisfied: opentelemetry-exporter-otlp-proto-grpc>=1.2.0 in /Users/kevinlights/app/miniforge3/envs/open_manus/lib/python3.12/site-packages (from chromadb) (1.31.0)\n",
      "Requirement already satisfied: opentelemetry-instrumentation-fastapi>=0.41b0 in /Users/kevinlights/app/miniforge3/envs/open_manus/lib/python3.12/site-packages (from chromadb) (0.52b0)\n",
      "Requirement already satisfied: opentelemetry-sdk>=1.2.0 in /Users/kevinlights/app/miniforge3/envs/open_manus/lib/python3.12/site-packages (from chromadb) (1.31.0)\n",
      "Requirement already satisfied: tokenizers>=0.13.2 in /Users/kevinlights/app/miniforge3/envs/open_manus/lib/python3.12/site-packages (from chromadb) (0.21.1)\n",
      "Requirement already satisfied: pypika>=0.48.9 in /Users/kevinlights/app/miniforge3/envs/open_manus/lib/python3.12/site-packages (from chromadb) (0.48.9)\n",
      "Requirement already satisfied: tqdm>=4.65.0 in /Users/kevinlights/app/miniforge3/envs/open_manus/lib/python3.12/site-packages (from chromadb) (4.67.1)\n",
      "Requirement already satisfied: overrides>=7.3.1 in /Users/kevinlights/app/miniforge3/envs/open_manus/lib/python3.12/site-packages (from chromadb) (7.7.0)\n",
      "Requirement already satisfied: importlib-resources in /Users/kevinlights/app/miniforge3/envs/open_manus/lib/python3.12/site-packages (from chromadb) (6.5.2)\n",
      "Requirement already satisfied: grpcio>=1.58.0 in /Users/kevinlights/app/miniforge3/envs/open_manus/lib/python3.12/site-packages (from chromadb) (1.71.0)\n",
      "Requirement already satisfied: bcrypt>=4.0.1 in /Users/kevinlights/app/miniforge3/envs/open_manus/lib/python3.12/site-packages (from chromadb) (4.3.0)\n",
      "Requirement already satisfied: typer>=0.9.0 in /Users/kevinlights/app/miniforge3/envs/open_manus/lib/python3.12/site-packages (from chromadb) (0.15.2)\n",
      "Requirement already satisfied: kubernetes>=28.1.0 in /Users/kevinlights/app/miniforge3/envs/open_manus/lib/python3.12/site-packages (from chromadb) (32.0.1)\n",
      "Requirement already satisfied: tenacity>=8.2.3 in /Users/kevinlights/app/miniforge3/envs/open_manus/lib/python3.12/site-packages (from chromadb) (9.0.0)\n",
      "Requirement already satisfied: PyYAML>=6.0.0 in /Users/kevinlights/app/miniforge3/envs/open_manus/lib/python3.12/site-packages (from chromadb) (6.0.2)\n",
      "Requirement already satisfied: mmh3>=4.0.1 in /Users/kevinlights/app/miniforge3/envs/open_manus/lib/python3.12/site-packages (from chromadb) (5.1.0)\n",
      "Requirement already satisfied: orjson>=3.9.12 in /Users/kevinlights/app/miniforge3/envs/open_manus/lib/python3.12/site-packages (from chromadb) (3.10.15)\n",
      "Requirement already satisfied: rich>=10.11.0 in /Users/kevinlights/app/miniforge3/envs/open_manus/lib/python3.12/site-packages (from chromadb) (13.9.4)\n",
      "Requirement already satisfied: packaging>=19.1 in /Users/kevinlights/app/miniforge3/envs/open_manus/lib/python3.12/site-packages (from build>=1.0.3->chromadb) (24.2)\n",
      "Requirement already satisfied: pyproject_hooks in /Users/kevinlights/app/miniforge3/envs/open_manus/lib/python3.12/site-packages (from build>=1.0.3->chromadb) (1.2.0)\n",
      "Requirement already satisfied: starlette<0.47.0,>=0.40.0 in /Users/kevinlights/app/miniforge3/envs/open_manus/lib/python3.12/site-packages (from fastapi>=0.95.2->chromadb) (0.46.1)\n",
      "Requirement already satisfied: anyio in /Users/kevinlights/app/miniforge3/envs/open_manus/lib/python3.12/site-packages (from httpx<0.29,>=0.27->ollama) (4.8.0)\n",
      "Requirement already satisfied: certifi in /Users/kevinlights/app/miniforge3/envs/open_manus/lib/python3.12/site-packages (from httpx<0.29,>=0.27->ollama) (2025.1.31)\n",
      "Requirement already satisfied: httpcore==1.* in /Users/kevinlights/app/miniforge3/envs/open_manus/lib/python3.12/site-packages (from httpx<0.29,>=0.27->ollama) (1.0.7)\n",
      "Requirement already satisfied: idna in /Users/kevinlights/app/miniforge3/envs/open_manus/lib/python3.12/site-packages (from httpx<0.29,>=0.27->ollama) (3.10)\n",
      "Requirement already satisfied: h11<0.15,>=0.13 in /Users/kevinlights/app/miniforge3/envs/open_manus/lib/python3.12/site-packages (from httpcore==1.*->httpx<0.29,>=0.27->ollama) (0.14.0)\n",
      "Requirement already satisfied: six>=1.9.0 in /Users/kevinlights/app/miniforge3/envs/open_manus/lib/python3.12/site-packages (from kubernetes>=28.1.0->chromadb) (1.17.0)\n",
      "Requirement already satisfied: python-dateutil>=2.5.3 in /Users/kevinlights/app/miniforge3/envs/open_manus/lib/python3.12/site-packages (from kubernetes>=28.1.0->chromadb) (2.9.0.post0)\n",
      "Requirement already satisfied: google-auth>=1.0.1 in /Users/kevinlights/app/miniforge3/envs/open_manus/lib/python3.12/site-packages (from kubernetes>=28.1.0->chromadb) (2.38.0)\n",
      "Requirement already satisfied: websocket-client!=0.40.0,!=0.41.*,!=0.42.*,>=0.32.0 in /Users/kevinlights/app/miniforge3/envs/open_manus/lib/python3.12/site-packages (from kubernetes>=28.1.0->chromadb) (1.8.0)\n",
      "Requirement already satisfied: requests in /Users/kevinlights/app/miniforge3/envs/open_manus/lib/python3.12/site-packages (from kubernetes>=28.1.0->chromadb) (2.32.3)\n",
      "Requirement already satisfied: requests-oauthlib in /Users/kevinlights/app/miniforge3/envs/open_manus/lib/python3.12/site-packages (from kubernetes>=28.1.0->chromadb) (2.0.0)\n",
      "Requirement already satisfied: oauthlib>=3.2.2 in /Users/kevinlights/app/miniforge3/envs/open_manus/lib/python3.12/site-packages (from kubernetes>=28.1.0->chromadb) (3.2.2)\n",
      "Requirement already satisfied: urllib3>=1.24.2 in /Users/kevinlights/app/miniforge3/envs/open_manus/lib/python3.12/site-packages (from kubernetes>=28.1.0->chromadb) (2.3.0)\n",
      "Requirement already satisfied: durationpy>=0.7 in /Users/kevinlights/app/miniforge3/envs/open_manus/lib/python3.12/site-packages (from kubernetes>=28.1.0->chromadb) (0.9)\n",
      "Requirement already satisfied: coloredlogs in /Users/kevinlights/app/miniforge3/envs/open_manus/lib/python3.12/site-packages (from onnxruntime>=1.14.1->chromadb) (15.0.1)\n",
      "Requirement already satisfied: flatbuffers in /Users/kevinlights/app/miniforge3/envs/open_manus/lib/python3.12/site-packages (from onnxruntime>=1.14.1->chromadb) (25.2.10)\n",
      "Requirement already satisfied: protobuf in /Users/kevinlights/app/miniforge3/envs/open_manus/lib/python3.12/site-packages (from onnxruntime>=1.14.1->chromadb) (5.29.3)\n",
      "Requirement already satisfied: sympy in /Users/kevinlights/app/miniforge3/envs/open_manus/lib/python3.12/site-packages (from onnxruntime>=1.14.1->chromadb) (1.13.1)\n",
      "Requirement already satisfied: deprecated>=1.2.6 in /Users/kevinlights/app/miniforge3/envs/open_manus/lib/python3.12/site-packages (from opentelemetry-api>=1.2.0->chromadb) (1.2.18)\n",
      "Requirement already satisfied: importlib-metadata<8.7.0,>=6.0 in /Users/kevinlights/app/miniforge3/envs/open_manus/lib/python3.12/site-packages (from opentelemetry-api>=1.2.0->chromadb) (8.6.1)\n",
      "Requirement already satisfied: googleapis-common-protos~=1.52 in /Users/kevinlights/app/miniforge3/envs/open_manus/lib/python3.12/site-packages (from opentelemetry-exporter-otlp-proto-grpc>=1.2.0->chromadb) (1.69.1)\n",
      "Requirement already satisfied: opentelemetry-exporter-otlp-proto-common==1.31.0 in /Users/kevinlights/app/miniforge3/envs/open_manus/lib/python3.12/site-packages (from opentelemetry-exporter-otlp-proto-grpc>=1.2.0->chromadb) (1.31.0)\n",
      "Requirement already satisfied: opentelemetry-proto==1.31.0 in /Users/kevinlights/app/miniforge3/envs/open_manus/lib/python3.12/site-packages (from opentelemetry-exporter-otlp-proto-grpc>=1.2.0->chromadb) (1.31.0)\n",
      "Requirement already satisfied: opentelemetry-instrumentation-asgi==0.52b0 in /Users/kevinlights/app/miniforge3/envs/open_manus/lib/python3.12/site-packages (from opentelemetry-instrumentation-fastapi>=0.41b0->chromadb) (0.52b0)\n",
      "Requirement already satisfied: opentelemetry-instrumentation==0.52b0 in /Users/kevinlights/app/miniforge3/envs/open_manus/lib/python3.12/site-packages (from opentelemetry-instrumentation-fastapi>=0.41b0->chromadb) (0.52b0)\n",
      "Requirement already satisfied: opentelemetry-semantic-conventions==0.52b0 in /Users/kevinlights/app/miniforge3/envs/open_manus/lib/python3.12/site-packages (from opentelemetry-instrumentation-fastapi>=0.41b0->chromadb) (0.52b0)\n",
      "Requirement already satisfied: opentelemetry-util-http==0.52b0 in /Users/kevinlights/app/miniforge3/envs/open_manus/lib/python3.12/site-packages (from opentelemetry-instrumentation-fastapi>=0.41b0->chromadb) (0.52b0)\n",
      "Requirement already satisfied: wrapt<2.0.0,>=1.0.0 in /Users/kevinlights/app/miniforge3/envs/open_manus/lib/python3.12/site-packages (from opentelemetry-instrumentation==0.52b0->opentelemetry-instrumentation-fastapi>=0.41b0->chromadb) (1.17.2)\n",
      "Requirement already satisfied: asgiref~=3.0 in /Users/kevinlights/app/miniforge3/envs/open_manus/lib/python3.12/site-packages (from opentelemetry-instrumentation-asgi==0.52b0->opentelemetry-instrumentation-fastapi>=0.41b0->chromadb) (3.8.1)\n",
      "Requirement already satisfied: monotonic>=1.5 in /Users/kevinlights/app/miniforge3/envs/open_manus/lib/python3.12/site-packages (from posthog>=2.4.0->chromadb) (1.6)\n",
      "Requirement already satisfied: backoff>=1.10.0 in /Users/kevinlights/app/miniforge3/envs/open_manus/lib/python3.12/site-packages (from posthog>=2.4.0->chromadb) (2.2.1)\n",
      "Requirement already satisfied: distro>=1.5.0 in /Users/kevinlights/app/miniforge3/envs/open_manus/lib/python3.12/site-packages (from posthog>=2.4.0->chromadb) (1.9.0)\n",
      "Requirement already satisfied: annotated-types>=0.6.0 in /Users/kevinlights/app/miniforge3/envs/open_manus/lib/python3.12/site-packages (from pydantic<3.0.0,>=2.9.0->ollama) (0.7.0)\n",
      "Requirement already satisfied: pydantic-core==2.27.2 in /Users/kevinlights/app/miniforge3/envs/open_manus/lib/python3.12/site-packages (from pydantic<3.0.0,>=2.9.0->ollama) (2.27.2)\n",
      "Requirement already satisfied: markdown-it-py>=2.2.0 in /Users/kevinlights/app/miniforge3/envs/open_manus/lib/python3.12/site-packages (from rich>=10.11.0->chromadb) (3.0.0)\n",
      "Requirement already satisfied: pygments<3.0.0,>=2.13.0 in /Users/kevinlights/app/miniforge3/envs/open_manus/lib/python3.12/site-packages (from rich>=10.11.0->chromadb) (2.19.1)\n",
      "Requirement already satisfied: huggingface-hub<1.0,>=0.16.4 in /Users/kevinlights/app/miniforge3/envs/open_manus/lib/python3.12/site-packages (from tokenizers>=0.13.2->chromadb) (0.29.3)\n",
      "Requirement already satisfied: click>=8.0.0 in /Users/kevinlights/app/miniforge3/envs/open_manus/lib/python3.12/site-packages (from typer>=0.9.0->chromadb) (8.1.8)\n",
      "Requirement already satisfied: shellingham>=1.3.0 in /Users/kevinlights/app/miniforge3/envs/open_manus/lib/python3.12/site-packages (from typer>=0.9.0->chromadb) (1.5.4)\n",
      "Requirement already satisfied: httptools>=0.5.0 in /Users/kevinlights/app/miniforge3/envs/open_manus/lib/python3.12/site-packages (from uvicorn[standard]>=0.18.3->chromadb) (0.6.4)\n",
      "Requirement already satisfied: python-dotenv>=0.13 in /Users/kevinlights/app/miniforge3/envs/open_manus/lib/python3.12/site-packages (from uvicorn[standard]>=0.18.3->chromadb) (1.0.1)\n",
      "Requirement already satisfied: uvloop!=0.15.0,!=0.15.1,>=0.14.0 in /Users/kevinlights/app/miniforge3/envs/open_manus/lib/python3.12/site-packages (from uvicorn[standard]>=0.18.3->chromadb) (0.21.0)\n",
      "Requirement already satisfied: watchfiles>=0.13 in /Users/kevinlights/app/miniforge3/envs/open_manus/lib/python3.12/site-packages (from uvicorn[standard]>=0.18.3->chromadb) (1.0.4)\n",
      "Requirement already satisfied: websockets>=10.4 in /Users/kevinlights/app/miniforge3/envs/open_manus/lib/python3.12/site-packages (from uvicorn[standard]>=0.18.3->chromadb) (13.1)\n",
      "Requirement already satisfied: cachetools<6.0,>=2.0.0 in /Users/kevinlights/app/miniforge3/envs/open_manus/lib/python3.12/site-packages (from google-auth>=1.0.1->kubernetes>=28.1.0->chromadb) (5.5.2)\n",
      "Requirement already satisfied: pyasn1-modules>=0.2.1 in /Users/kevinlights/app/miniforge3/envs/open_manus/lib/python3.12/site-packages (from google-auth>=1.0.1->kubernetes>=28.1.0->chromadb) (0.4.1)\n",
      "Requirement already satisfied: rsa<5,>=3.1.4 in /Users/kevinlights/app/miniforge3/envs/open_manus/lib/python3.12/site-packages (from google-auth>=1.0.1->kubernetes>=28.1.0->chromadb) (4.9)\n",
      "Requirement already satisfied: filelock in /Users/kevinlights/app/miniforge3/envs/open_manus/lib/python3.12/site-packages (from huggingface-hub<1.0,>=0.16.4->tokenizers>=0.13.2->chromadb) (3.17.0)\n",
      "Requirement already satisfied: fsspec>=2023.5.0 in /Users/kevinlights/app/miniforge3/envs/open_manus/lib/python3.12/site-packages (from huggingface-hub<1.0,>=0.16.4->tokenizers>=0.13.2->chromadb) (2024.6.1)\n",
      "Requirement already satisfied: zipp>=3.20 in /Users/kevinlights/app/miniforge3/envs/open_manus/lib/python3.12/site-packages (from importlib-metadata<8.7.0,>=6.0->opentelemetry-api>=1.2.0->chromadb) (3.21.0)\n",
      "Requirement already satisfied: mdurl~=0.1 in /Users/kevinlights/app/miniforge3/envs/open_manus/lib/python3.12/site-packages (from markdown-it-py>=2.2.0->rich>=10.11.0->chromadb) (0.1.2)\n",
      "Requirement already satisfied: charset-normalizer<4,>=2 in /Users/kevinlights/app/miniforge3/envs/open_manus/lib/python3.12/site-packages (from requests->kubernetes>=28.1.0->chromadb) (3.4.1)\n",
      "Requirement already satisfied: sniffio>=1.1 in /Users/kevinlights/app/miniforge3/envs/open_manus/lib/python3.12/site-packages (from anyio->httpx<0.29,>=0.27->ollama) (1.3.1)\n",
      "Requirement already satisfied: humanfriendly>=9.1 in /Users/kevinlights/app/miniforge3/envs/open_manus/lib/python3.12/site-packages (from coloredlogs->onnxruntime>=1.14.1->chromadb) (10.0)\n",
      "Requirement already satisfied: mpmath<1.4,>=1.1.0 in /Users/kevinlights/app/miniforge3/envs/open_manus/lib/python3.12/site-packages (from sympy->onnxruntime>=1.14.1->chromadb) (1.3.0)\n",
      "Requirement already satisfied: pyasn1<0.7.0,>=0.4.6 in /Users/kevinlights/app/miniforge3/envs/open_manus/lib/python3.12/site-packages (from pyasn1-modules>=0.2.1->google-auth>=1.0.1->kubernetes>=28.1.0->chromadb) (0.6.1)\n"
     ]
    }
   ],
   "source": [
    "!pip install ollama chromadb"
   ]
  },
  {
   "cell_type": "code",
   "execution_count": 3,
   "metadata": {},
   "outputs": [],
   "source": [
    "import ollama\n",
    "import chromadb\n",
    "from chromadb.utils.embedding_functions import OllamaEmbeddingFunction\n",
    "from langchain.document_loaders.text import TextLoader\n",
    "from langchain_core.documents import Document\n",
    "from langchain.text_splitter import RecursiveCharacterTextSplitter\n"
   ]
  },
  {
   "cell_type": "code",
   "execution_count": 4,
   "metadata": {},
   "outputs": [],
   "source": [
    "chromadb_client = chromadb.PersistentClient(path=\"./chroma_db_txt\")"
   ]
  },
  {
   "cell_type": "code",
   "execution_count": 5,
   "metadata": {},
   "outputs": [],
   "source": [
    "embedding_function = OllamaEmbeddingFunction(\n",
    "    model_name=\"nomic-embed-text:latest\",\n",
    "    url=\"http://localhost:11434/api/embeddings\",\n",
    ")"
   ]
  },
  {
   "cell_type": "code",
   "execution_count": 6,
   "metadata": {},
   "outputs": [
    {
     "name": "stdout",
     "output_type": "stream",
     "text": [
      "collection created\n"
     ]
    }
   ],
   "source": [
    "try:\n",
    "    collection = chromadb_client.create_collection(\n",
    "        name=\"txt_data\",\n",
    "        embedding_function=embedding_function,\n",
    "    )\n",
    "    print(\"collection created\")\n",
    "except chromadb.errors.UniqueConstraintError as e:\n",
    "    print(\"collection exists, get it directly\")\n",
    "    collection = chromadb_client.get_collection(\n",
    "        name=\"txt_data\",\n",
    "        embedding_function=embedding_function,\n",
    "    )"
   ]
  },
  {
   "cell_type": "code",
   "execution_count": 7,
   "metadata": {},
   "outputs": [
    {
     "data": {
      "text/plain": [
       "338"
      ]
     },
     "execution_count": 7,
     "metadata": {},
     "output_type": "execute_result"
    }
   ],
   "source": [
    "data = TextLoader(file_path=\"test.txt\", encoding=\"utf-8\").load()\n",
    "splitter = RecursiveCharacterTextSplitter()\n",
    "documents = splitter.split_documents(data)\n",
    "len(documents)"
   ]
  },
  {
   "cell_type": "code",
   "execution_count": 8,
   "metadata": {},
   "outputs": [],
   "source": [
    "# documents = [line for line in data.split(\"\\n\")[1:] if line.strip() != '']\n",
    "for idx, doc in enumerate(documents):\n",
    "    collection.add(\n",
    "        documents=[doc.page_content],\n",
    "        ids=[str(idx)]\n",
    "    )"
   ]
  },
  {
   "cell_type": "code",
   "execution_count": 11,
   "metadata": {},
   "outputs": [],
   "source": [
    "query = \"诺伍德的建筑师讲了什么\"\n",
    "query_embedding = embedding_function([query])\n",
    "results = collection.query(\n",
    "    query_embeddings=query_embedding,\n",
    "    n_results=10,\n",
    ")"
   ]
  },
  {
   "cell_type": "code",
   "execution_count": 13,
   "metadata": {},
   "outputs": [
    {
     "name": "stdout",
     "output_type": "stream",
     "text": [
      "<think>\n",
      "好，我现在需要解决福尔摩斯在“诺伍德的建筑师讲了什么”这个问题。首先，我得回顾一下整个案件的背景，看看福尔摩斯如何推断出 clue 是谁。\n",
      "\n",
      "福尔摩斯在与老管家约翰·罗恩和布里南·赫利奥里关于老吉尔的一段对话中提到线索，其中提到苏格兰场的杰克森家庭。 clue 是他们中的一个，而福尔摩斯通过推理排除了约翰·罗恩和布里南·赫利奥里，剩下的是亚伦·德比特。这可能是因为 clue 是他们中的一个。\n",
      "\n",
      "接下来，福尔摩斯需要回忆老吉尔的故事，包括老家的结构、福尔摩斯的过去以及家族的历史。根据福尔摩斯的话，“我已经说过，在这些事情中是重要的，所以我必须告诉你们，所以……” 这部分提示 clue 可能在其中提到的事情里。\n",
      "\n",
      "福尔摩斯还提到了福尔摩斯和苏格兰场的矛盾，这可能涉及到 clue 的时间线，即在他们之间发生的冲突。因此， clue 应与福尔摩斯对这些事件的认知有关。\n",
      "\n",
      "综合以上信息，福尔摩斯可能推断出 clue 是亚伦·德比特，因为这是一个与老吉尔和苏格兰场相关的线索，并且 clue 是他们中的一个，而且 clue 也被描述为“在一些事情中是重要的，所以我必须告诉你们，所以……” 这部分暗示 clue 有特定的历史背景。\n",
      "\n",
      "最终，福尔摩斯推断 clue 应该是亚伦·德比特，这与老吉尔的案件以及苏格兰场的冲突直接相关。\n",
      "</think>\n",
      "\n",
      "**福尔摩斯推断出 clue 是亚伦·德比特。**\n",
      "\n",
      "在“诺伍德的建筑师讲了什么”这一段中，福尔摩斯通过分析案件的关键线索和老吉尔的故事，推测 clue 应为亚伦·德比特。 clue 是苏格兰场的杰克森家庭成员，而亚伦·德比特正是杰克森家族的重要人物之一。\n",
      "\n",
      "**推断过程：**\n",
      "\n",
      "1. **案件背景与线索**：福尔摩斯知道 clue 是福尔摩斯对苏格兰场案件的分析， clue 提到一些关键的数据和证据。\n",
      "2. **老吉尔与苏格兰场的关系**：老吉尔和苏格兰场有密切的关系， clue 中提到了苏格兰场的地理位置和历史背景。\n",
      "3. **福尔摩斯的历史角色**：福尔摩斯之前处理过老吉尔案件，并涉及苏格兰场及其成员的情况。 clue 是一个重要的线索，在福尔摩斯的分析中被提及。\n",
      "4. **亚伦·德比特的身份**：亚伦·德比特是杰克森家族的重要人物，符合 clue 提到的 clue（与苏格兰场和老吉尔有关）。\n",
      "\n",
      "因此， clue 为亚伦·德比特。\n"
     ]
    }
   ],
   "source": [
    "related_documents = results[\"documents\"][0]\n",
    "if not related_documents:\n",
    "    answer = \"no related data found\"\n",
    "else:\n",
    "    context = \"\\n\".join(related_documents)\n",
    "    prompt = f\"根据以下上下文： \\n{context}\\n回答: {query}\"\n",
    "    response = ollama.generate(model=\"deepseek-r1:1.5b\", prompt=prompt)\n",
    "    answer = response['response']\n",
    "print(answer)\n"
   ]
  },
  {
   "cell_type": "code",
   "execution_count": null,
   "metadata": {},
   "outputs": [],
   "source": []
  }
 ],
 "metadata": {
  "kernelspec": {
   "display_name": "open_manus",
   "language": "python",
   "name": "python3"
  },
  "language_info": {
   "codemirror_mode": {
    "name": "ipython",
    "version": 3
   },
   "file_extension": ".py",
   "mimetype": "text/x-python",
   "name": "python",
   "nbconvert_exporter": "python",
   "pygments_lexer": "ipython3",
   "version": "3.12.9"
  }
 },
 "nbformat": 4,
 "nbformat_minor": 2
}
