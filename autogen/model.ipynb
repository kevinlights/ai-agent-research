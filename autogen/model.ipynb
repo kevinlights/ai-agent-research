{
 "cells": [
  {
   "cell_type": "code",
   "execution_count": 3,
   "metadata": {},
   "outputs": [],
   "source": [
    "from autogen_ext.models.ollama import OllamaChatCompletionClient\n",
    "\n",
    "model_client = OllamaChatCompletionClient(\n",
    "    model=\"qwen2.5-coder:14b\",\n",
    "    # model=\"gemma3:4b\",\n",
    ")"
   ]
  },
  {
   "cell_type": "code",
   "execution_count": 4,
   "metadata": {},
   "outputs": [
    {
     "name": "stdout",
     "output_type": "stream",
     "text": [
      "finish_reason='unknown' content='The capital of China is Beijing.' usage=RequestUsage(prompt_tokens=37, completion_tokens=8) cached=False logprobs=None thought=None\n"
     ]
    }
   ],
   "source": [
    "from autogen_core.models import UserMessage\n",
    "\n",
    "result = await model_client.create([UserMessage(content=\"What is the captical of China?\", source=\"user\")])\n",
    "print(result)"
   ]
  },
  {
   "cell_type": "code",
   "execution_count": 6,
   "metadata": {},
   "outputs": [
    {
     "name": "stdout",
     "output_type": "stream",
     "text": [
      "finish_reason='stop' content=\"The capital of China is **Beijing**. \\n\\nIt's a huge and historically significant city, known for landmarks like the Forbidden City, the Great Wall, and Tiananmen Square. 😊 \\n\\nDo you want to know more about Beijing or China in general?\" usage=RequestUsage(prompt_tokens=16, completion_tokens=55) cached=False logprobs=None thought=None\n"
     ]
    }
   ],
   "source": [
    "import os\n",
    "\n",
    "from autogen_core.models import UserMessage\n",
    "from autogen_ext.models.semantic_kernel import SKChatCompletionAdapter\n",
    "from semantic_kernel import Kernel\n",
    "# from semantic_kernel.connectors.ai.anthropic import AnthropicChatCompletion, AnthropicChatPromptExecutionSettings\n",
    "from semantic_kernel.connectors.ai.ollama.services.ollama_chat_completion import OllamaChatCompletion, OllamaChatPromptExecutionSettings\n",
    "from semantic_kernel.memory.null_memory import NullMemory\n",
    "\n",
    "# sk_client = AnthropicChatCompletion(\n",
    "#     ai_model_id=\"claude-3-5-sonnet-20241022\",\n",
    "#     api_key=os.environ[\"ANTHROPIC_API_KEY\"],\n",
    "#     service_id=\"my-service-id\",  # Optional; for targeting specific services within Semantic Kernel\n",
    "# )\n",
    "# settings = AnthropicChatPromptExecutionSettings(\n",
    "#     temperature=0.2,\n",
    "# )\n",
    "\n",
    "sk_client = OllamaChatCompletion(\n",
    "    ai_model_id=\"gemma3:4b\",\n",
    ")\n",
    "settings = OllamaChatPromptExecutionSettings(\n",
    "    \n",
    ")\n",
    "\n",
    "anthropic_model_client = SKChatCompletionAdapter(\n",
    "    sk_client, kernel=Kernel(memory=NullMemory()), prompt_settings=settings\n",
    ")\n",
    "\n",
    "# Call the model directly.\n",
    "model_result = await anthropic_model_client.create(\n",
    "    messages=[UserMessage(content=\"What is the capital of China?\", source=\"User\")]\n",
    ")\n",
    "print(model_result)"
   ]
  },
  {
   "cell_type": "code",
   "execution_count": null,
   "metadata": {},
   "outputs": [],
   "source": [
    "from autogen_ext.models.openai import OpenAIChatCompletionClient\n",
    "from autogen_core.models import ModelFamily\n",
    "model_client = OpenAIChatCompletionClient(\n",
    "    model=\"deepseek-r1:1.5b\",\n",
    "    base_url=\"http://localhost:11434/v1\",\n",
    "    api_key=\"placeholder\",\n",
    "    model_info={\n",
    "        \"vision\": False,\n",
    "        \"function_calling\": True,\n",
    "        \"json_output\": False,\n",
    "        \"family\": ModelFamily.R1,\n",
    "    },\n",
    ")"
   ]
  }
 ],
 "metadata": {
  "kernelspec": {
   "display_name": "open_manus",
   "language": "python",
   "name": "python3"
  },
  "language_info": {
   "codemirror_mode": {
    "name": "ipython",
    "version": 3
   },
   "file_extension": ".py",
   "mimetype": "text/x-python",
   "name": "python",
   "nbconvert_exporter": "python",
   "pygments_lexer": "ipython3",
   "version": "3.12.9"
  }
 },
 "nbformat": 4,
 "nbformat_minor": 2
}
