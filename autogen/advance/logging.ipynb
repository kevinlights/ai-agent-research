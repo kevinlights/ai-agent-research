{
 "cells": [
  {
   "cell_type": "code",
   "execution_count": 1,
   "metadata": {},
   "outputs": [],
   "source": [
    "import logging\n",
    "\n",
    "from autogen_agentchat import EVENT_LOGGER_NAME, TRACE_LOGGER_NAME\n",
    "\n",
    "logging.basicConfig(level=logging.WARNING)\n",
    "\n",
    "# For trace logging.\n",
    "trace_logger = logging.getLogger(TRACE_LOGGER_NAME)\n",
    "trace_logger.addHandler(logging.StreamHandler())\n",
    "trace_logger.setLevel(logging.DEBUG)\n",
    "\n",
    "# For structured message logging, such as low-level messages between agents.\n",
    "event_logger = logging.getLogger(EVENT_LOGGER_NAME)\n",
    "event_logger.addHandler(logging.StreamHandler())\n",
    "event_logger.setLevel(logging.DEBUG)"
   ]
  },
  {
   "cell_type": "code",
   "execution_count": 2,
   "metadata": {},
   "outputs": [
    {
     "name": "stdout",
     "output_type": "stream",
     "text": [
      "---------- user ----------\n",
      "Write a short poem about the fall season.\n",
      "---------- primary ----------\n",
      "Leaves of amber and russet, falling,\n",
      "Whisper to ground in autumn's calling.\n",
      "Chill winds dance, a crisp inviting caress,\n",
      "As twilight's embrace with dusk it presses.\n",
      "\n",
      "Sunlight slants, through bare branches,\n",
      "Painting glows on paths that once held masses.\n",
      "Hues of orange and red, they tell the tale,\n",
      "Of harvest's bounty, soon to pale.\n",
      "\n",
      "Pumpkins grin under skies of endless blue,\n",
      "Cider warms hands as cool breezes brew.\n",
      "Nature's symphony in a fleeting score,\n",
      "Fall's magic in twilight and morning's shore.\n",
      "---------- critic ----------\n",
      "Your poem captures the essence of fall beautifully with vivid imagery and heartfelt emotion. The transitions between the lines flow well, and each stanza focuses on different aspects of autumn—leaves, sunlight, warmth, and nature's beauty. To enhance it further, perhaps consider adding more auditory elements like rustling leaves or falling into stanzas to create a stronger rhythm.\n",
      "\n",
      "APPROVE\n"
     ]
    },
    {
     "data": {
      "text/plain": [
       "TaskResult(messages=[TextMessage(source='user', models_usage=None, metadata={}, content='Write a short poem about the fall season.', type='TextMessage'), TextMessage(source='primary', models_usage=RequestUsage(prompt_tokens=29, completion_tokens=121), metadata={}, content=\"Leaves of amber and russet, falling,\\nWhisper to ground in autumn's calling.\\nChill winds dance, a crisp inviting caress,\\nAs twilight's embrace with dusk it presses.\\n\\nSunlight slants, through bare branches,\\nPainting glows on paths that once held masses.\\nHues of orange and red, they tell the tale,\\nOf harvest's bounty, soon to pale.\\n\\nPumpkins grin under skies of endless blue,\\nCider warms hands as cool breezes brew.\\nNature's symphony in a fleeting score,\\nFall's magic in twilight and morning's shore.\", type='TextMessage'), TextMessage(source='critic', models_usage=RequestUsage(prompt_tokens=161, completion_tokens=76), metadata={}, content=\"Your poem captures the essence of fall beautifully with vivid imagery and heartfelt emotion. The transitions between the lines flow well, and each stanza focuses on different aspects of autumn—leaves, sunlight, warmth, and nature's beauty. To enhance it further, perhaps consider adding more auditory elements like rustling leaves or falling into stanzas to create a stronger rhythm.\\n\\nAPPROVE\", type='TextMessage')], stop_reason=\"Text 'APPROVE' mentioned\")"
      ]
     },
     "execution_count": 2,
     "metadata": {},
     "output_type": "execute_result"
    }
   ],
   "source": [
    "import asyncio\n",
    "\n",
    "from autogen_agentchat.agents import AssistantAgent\n",
    "from autogen_agentchat.base import TaskResult\n",
    "from autogen_agentchat.conditions import ExternalTermination, TextMentionTermination\n",
    "from autogen_agentchat.teams import RoundRobinGroupChat\n",
    "from autogen_agentchat.ui import Console\n",
    "from autogen_core import CancellationToken\n",
    "from autogen_ext.models.openai import OpenAIChatCompletionClient\n",
    "\n",
    "# Create an OpenAI model client.\n",
    "# model_client = OpenAIChatCompletionClient(\n",
    "#     model=\"gpt-4o-2024-08-06\",\n",
    "#     # api_key=\"sk-...\", # Optional if you have an OPENAI_API_KEY env variable set.\n",
    "# )\n",
    "\n",
    "from autogen_core.models import ModelFamily\n",
    "model_client = OpenAIChatCompletionClient(\n",
    "    model=\"qwen2.5:7b\",\n",
    "    base_url=\"http://localhost:11434/v1\",\n",
    "    api_key=\"placeholder\",\n",
    "    model_info={\n",
    "        \"vision\": False,\n",
    "        \"function_calling\": True,\n",
    "        \"json_output\": False,\n",
    "        \"family\": ModelFamily.ANY,\n",
    "    },\n",
    ")\n",
    "\n",
    "# Create the primary agent.\n",
    "primary_agent = AssistantAgent(\n",
    "    \"primary\",\n",
    "    model_client=model_client,\n",
    "    system_message=\"You are a helpful AI assistant.\",\n",
    ")\n",
    "\n",
    "# Create the critic agent.\n",
    "critic_agent = AssistantAgent(\n",
    "    \"critic\",\n",
    "    model_client=model_client,\n",
    "    system_message=\"Provide constructive feedback. Respond with 'APPROVE' to when your feedbacks are addressed.\",\n",
    ")\n",
    "\n",
    "# Define a termination condition that stops the task if the critic approves.\n",
    "text_termination = TextMentionTermination(\"APPROVE\")\n",
    "\n",
    "# Create a team with the primary and critic agents.\n",
    "team = RoundRobinGroupChat([primary_agent, critic_agent], termination_condition=text_termination)\n",
    "\n",
    "await Console(team.run_stream(task=\"Write a short poem about the fall season.\"))  # Stream the messages to the console."
   ]
  },
  {
   "cell_type": "code",
   "execution_count": null,
   "metadata": {},
   "outputs": [],
   "source": []
  }
 ],
 "metadata": {
  "kernelspec": {
   "display_name": "open_manus",
   "language": "python",
   "name": "python3"
  },
  "language_info": {
   "codemirror_mode": {
    "name": "ipython",
    "version": 3
   },
   "file_extension": ".py",
   "mimetype": "text/x-python",
   "name": "python",
   "nbconvert_exporter": "python",
   "pygments_lexer": "ipython3",
   "version": "3.12.9"
  }
 },
 "nbformat": 4,
 "nbformat_minor": 2
}
